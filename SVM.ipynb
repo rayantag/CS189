{
  "cells": [
    {
      "cell_type": "code",
      "execution_count": null,
      "metadata": {
        "colab": {
          "base_uri": "https://localhost:8080/"
        },
        "id": "e2OhmHR-Wvby",
        "outputId": "1e9dc7d5-a2b1-4344-ff54-8cf9d066d7fc"
      },
      "outputs": [
        {
          "output_type": "stream",
          "name": "stdout",
          "text": [
            "Mounted at /content/drive\n"
          ]
        }
      ],
      "source": [
        "#from google.colab import drive\n",
        "#drive.mount('/content/drive')"
      ]
    },
    {
      "cell_type": "code",
      "execution_count": null,
      "metadata": {
        "id": "LiBkcwxvbBCX",
        "colab": {
          "base_uri": "https://localhost:8080/"
        },
        "outputId": "68409d82-2a7b-4312-9c22-8cadf27fd348"
      },
      "outputs": [
        {
          "output_type": "stream",
          "name": "stdout",
          "text": [
            "unzip:  cannot find or open /content/drive/MyDrive/hw1.zip, /content/drive/MyDrive/hw1.zip.zip or /content/drive/MyDrive/hw1.zip.ZIP.\n"
          ]
        }
      ],
      "source": [
        "#!unzip -q \"/content/drive/MyDrive/hw1.zip\""
      ]
    },
    {
      "cell_type": "code",
      "source": [
        "!pwd"
      ],
      "metadata": {
        "colab": {
          "base_uri": "https://localhost:8080/"
        },
        "id": "W3PLkJLVEt9b",
        "outputId": "1e31f03e-f7a8-4ba3-b922-6c85474659f3"
      },
      "execution_count": null,
      "outputs": [
        {
          "output_type": "stream",
          "name": "stdout",
          "text": [
            "/content\n"
          ]
        }
      ]
    },
    {
      "cell_type": "code",
      "source": [
        "!unzip -q \"/content/hw1.zip\""
      ],
      "metadata": {
        "id": "1Tg2sNBzEvsl"
      },
      "execution_count": null,
      "outputs": []
    },
    {
      "cell_type": "code",
      "source": [
        "import numpy as np\n",
        "import pandas as pd"
      ],
      "metadata": {
        "id": "87HGtck1GkYk"
      },
      "execution_count": null,
      "outputs": []
    },
    {
      "cell_type": "code",
      "execution_count": null,
      "metadata": {
        "colab": {
          "base_uri": "https://localhost:8080/"
        },
        "id": "q9yCBYEuf0SK",
        "outputId": "7598700d-4fbe-4e66-cf6f-2d8c73e48a3f"
      },
      "outputs": [
        {
          "output_type": "stream",
          "name": "stdout",
          "text": [
            "\n",
            "loaded mnist data!\n",
            "test_data (10000, 1, 28, 28)\n",
            "training_data (60000, 1, 28, 28)\n",
            "training_labels (60000,)\n",
            "\n",
            "loaded spam data!\n",
            "test_data (1000, 32)\n",
            "training_data (4172, 32)\n",
            "training_labels (4172,)\n",
            "\n",
            "loaded cifar10 data!\n",
            "test_data (10000, 3072)\n",
            "training_data (50000, 3072)\n",
            "training_labels (50000,)\n"
          ]
        }
      ],
      "source": [
        "import sys\n",
        "if sys.version_info[0] < 3:\n",
        "\traise Exception(\"Python 3 not detected.\")\n",
        "import numpy as np\n",
        "import matplotlib.pyplot as plt\n",
        "from sklearn import svm\n",
        "from scipy import io\n",
        "\n",
        "if __name__ == \"__main__\":\n",
        "    for data_name in [\"mnist\", \"spam\", \"cifar10\"]:\n",
        "        data = np.load(f\"hw1/data/{data_name}-data.npz\")\n",
        "        print(\"\\nloaded %s data!\" % data_name)\n",
        "        fields = \"test_data\", \"training_data\", \"training_labels\"\n",
        "        for field in fields:\n",
        "            print(field, data[field].shape)"
      ]
    },
    {
      "cell_type": "markdown",
      "metadata": {
        "id": "ylm9CsQaxvfO"
      },
      "source": [
        "**Problem 2: Data Partitioning**"
      ]
    },
    {
      "cell_type": "code",
      "execution_count": null,
      "metadata": {
        "id": "BHgQaXnjNB_b"
      },
      "outputs": [],
      "source": [
        "from random import shuffle\n",
        "from sklearn.svm import SVC\n",
        "from sklearn.metrics import accuracy_score\n",
        "import numpy as np"
      ]
    },
    {
      "cell_type": "code",
      "source": [
        "import pandas as pd"
      ],
      "metadata": {
        "id": "nbHC8Y6XdTQP"
      },
      "execution_count": null,
      "outputs": []
    },
    {
      "cell_type": "code",
      "execution_count": null,
      "metadata": {
        "id": "qk6JCD6VbtmM"
      },
      "outputs": [],
      "source": [
        "mnist = np.load(f\"hw1/data/mnist-data.npz\")\n",
        "\n",
        "old_train = mnist['training_data']\n",
        "old_labels = mnist[\"training_labels\"]\n",
        "seeding = []\n",
        "val_data = []\n",
        "val_labels = []\n",
        "\n",
        "new_train = [0] * 50000\n",
        "new_labels = [0] * 50000\n",
        "\n",
        "for i in range(0, 60000):\n",
        "  seeding.append(i)\n",
        "\n",
        "shuffle(seeding)\n",
        "\n",
        "for j in range(0, 50000):\n",
        "  new_train[j] = old_train[seeding[j]]\n",
        "  new_labels[j] = old_labels[seeding[j]]  \n",
        "\n",
        "for k in range(50000,60000):\n",
        "  val_data.append(old_train[seeding[k]])\n",
        "  val_labels.append(old_labels[seeding[k]])"
      ]
    },
    {
      "cell_type": "code",
      "source": [
        "# These methods are to flatten MNIST data for SVM model.\n",
        "\n",
        "def trainer(numb):\n",
        "  n = []\n",
        "  for i in range(numb):\n",
        "    x = []\n",
        "    for j in range(len(new_train[i][0])):\n",
        "      for k in new_train[i][0][j]:\n",
        "        x.append(k)\n",
        "    n.append(x)\n",
        "  return n\n",
        "\n",
        "def trainer1(numi):\n",
        "  n = []\n",
        "  for i in range(numi):\n",
        "    x = []\n",
        "    for j in range(len(val_data[i][0])):\n",
        "      for k in val_data[i][0][j]:\n",
        "        x.append(k)\n",
        "    n.append(x)\n",
        "  return n\n",
        "\n",
        "def trainer2(q):\n",
        "  td = mnist['test_data']\n",
        "  n = []\n",
        "  for i in range(q):\n",
        "    x = []\n",
        "    for j in range(len(td[i][0])):\n",
        "      for k in td[i][0][j]:\n",
        "        x.append(k)\n",
        "    n.append(x)\n",
        "  return n"
      ],
      "metadata": {
        "id": "G3szebmFUcco"
      },
      "execution_count": null,
      "outputs": []
    },
    {
      "cell_type": "code",
      "execution_count": null,
      "metadata": {
        "id": "DY3UQ2z6ujyU"
      },
      "outputs": [],
      "source": [
        "spam = np.load(f\"hw1/data/spam-data.npz\")\n",
        "\n",
        "sold_train = spam['training_data']\n",
        "sold_labels = spam[\"training_labels\"]\n",
        "spart = int(.80*len(sold_train))\n",
        "sseeding = []\n",
        "sval_data = []\n",
        "sval_labels = []\n",
        "\n",
        "snew_train = [0] * spart\n",
        "snew_labels = [0] * spart\n",
        "\n",
        "for si in range(0, len(sold_train)):\n",
        "  sseeding.append(si)\n",
        "\n",
        "shuffle(sseeding)\n",
        "\n",
        "#spart = int(.80*len(sold_train))\n",
        "for sj in range(0, spart):\n",
        "  snew_train[sj] = sold_train[sseeding[sj]]\n",
        "  snew_labels[sj] = sold_labels[sseeding[sj]]  \n",
        "\n",
        "for sk in range(spart, len(sold_train)):\n",
        "  sval_data.append(sold_train[sseeding[sk]])\n",
        "  sval_labels.append(sold_labels[sseeding[sk]])"
      ]
    },
    {
      "cell_type": "code",
      "execution_count": null,
      "metadata": {
        "id": "KpM_ytFIXqGP"
      },
      "outputs": [],
      "source": [
        "cifar = np.load(f\"hw1/data/cifar10-data.npz\")\n",
        "\n",
        "cold_train = cifar['training_data']\n",
        "cold_labels = cifar[\"training_labels\"]\n",
        "cseeding = []\n",
        "cval_data = []\n",
        "cval_labels = []\n",
        "\n",
        "cnew_train = [0] * 45000\n",
        "cnew_labels = [0] * 45000\n",
        "\n",
        "for ci in range(0, 50000):\n",
        "  cseeding.append(ci)\n",
        "\n",
        "shuffle(cseeding)\n",
        "\n",
        "for cj in range(0, 45000):\n",
        "  cnew_train[cj] = cold_train[cseeding[cj]]\n",
        "  cnew_labels[cj] = cold_labels[cseeding[cj]]  \n",
        "\n",
        "for ck in range(45000, 50000):\n",
        "  cval_data.append(cold_train[cseeding[ck]])\n",
        "  cval_labels.append(cold_labels[cseeding[ck]])"
      ]
    },
    {
      "cell_type": "markdown",
      "metadata": {
        "id": "omJrVAj2vfzl"
      },
      "source": [
        "**Problem 3: Support Vector Machines**"
      ]
    },
    {
      "cell_type": "markdown",
      "source": [
        "MNIST"
      ],
      "metadata": {
        "id": "hxQL1O6v7vkz"
      }
    },
    {
      "cell_type": "code",
      "source": [
        "import matplotlib.pyplot as plt"
      ],
      "metadata": {
        "id": "uVHT0autj_CD"
      },
      "execution_count": null,
      "outputs": []
    },
    {
      "cell_type": "code",
      "source": [
        "x_train = trainer(100)\n",
        "y_train = new_labels[:100]\n",
        "\n",
        "x_test = trainer1(10000)\n",
        "y_test = val_labels\n",
        "\n",
        "clf = SVC(kernel='linear')\n",
        "clf.fit(x_train,y_train)\n",
        "y_pred = clf.predict(x_test)\n",
        "y__pred = clf.predict(x_train)\n",
        "one_training = (accuracy_score(y_train, y__pred))\n",
        "one_vali = (accuracy_score(y_test,y_pred))"
      ],
      "metadata": {
        "id": "lHqn5eRskbh7"
      },
      "execution_count": null,
      "outputs": []
    },
    {
      "cell_type": "code",
      "source": [
        "x_train = trainer(200)\n",
        "y_train = new_labels[:200]\n",
        "\n",
        "x_test = trainer1(10000)\n",
        "y_test = val_labels\n",
        "\n",
        "clf = SVC(kernel='linear')\n",
        "clf.fit(x_train,y_train)\n",
        "y_pred = clf.predict(x_test)\n",
        "y__pred = clf.predict(x_train)\n",
        "two_training = (accuracy_score(y_train, y__pred))\n",
        "two_vali = (accuracy_score(y_test,y_pred))"
      ],
      "metadata": {
        "id": "qThEV-7xdEwP"
      },
      "execution_count": null,
      "outputs": []
    },
    {
      "cell_type": "code",
      "source": [
        "x_train = trainer(500)\n",
        "y_train = new_labels[:500]\n",
        "\n",
        "x_test = trainer1(10000)\n",
        "y_test = val_labels\n",
        "\n",
        "clf = SVC(kernel='linear')\n",
        "clf.fit(x_train,y_train)\n",
        "y_pred = clf.predict(x_test)\n",
        "y__pred = clf.predict(x_train)\n",
        "five_training = (accuracy_score(y_train, y__pred))\n",
        "five_vali = (accuracy_score(y_test,y_pred))"
      ],
      "metadata": {
        "id": "Hyldi8Y1k7_D"
      },
      "execution_count": null,
      "outputs": []
    },
    {
      "cell_type": "code",
      "source": [
        "x_train = trainer(1000)\n",
        "y_train = new_labels[:1000]\n",
        "\n",
        "x_test = trainer1(10000)\n",
        "y_test = val_labels\n",
        "\n",
        "clf = SVC(kernel='linear')\n",
        "clf.fit(x_train,y_train)\n",
        "y_pred = clf.predict(x_test)\n",
        "y__pred = clf.predict(x_train)\n",
        "ten_training = (accuracy_score(y_train, y__pred))\n",
        "ten_vali = (accuracy_score(y_test,y_pred))"
      ],
      "metadata": {
        "id": "6oYWYbBhdNJP"
      },
      "execution_count": null,
      "outputs": []
    },
    {
      "cell_type": "code",
      "source": [
        "x_train = trainer(2000)\n",
        "y_train = new_labels[:2000]\n",
        "\n",
        "x_test = trainer1(10000)\n",
        "y_test = val_labels\n",
        "\n",
        "clf = SVC(kernel='linear')\n",
        "clf.fit(x_train,y_train)\n",
        "y_pred = clf.predict(x_test)\n",
        "y__pred = clf.predict(x_train)\n",
        "twe_training = (accuracy_score(y_train, y__pred))\n",
        "twe_vali = (accuracy_score(y_test,y_pred))"
      ],
      "metadata": {
        "id": "pQVy8CDOlKvo"
      },
      "execution_count": null,
      "outputs": []
    },
    {
      "cell_type": "code",
      "source": [
        "x_train = trainer(5000)\n",
        "y_train = new_labels[:5000]\n",
        "\n",
        "x_test = trainer1(10000)\n",
        "y_test = val_labels\n",
        "\n",
        "clf = SVC(kernel='linear')\n",
        "clf.fit(x_train,y_train)\n",
        "y_pred = clf.predict(x_test)\n",
        "y__pred = clf.predict(x_train)\n",
        "fif_training = (accuracy_score(y_train, y__pred))\n",
        "fif_vali = (accuracy_score(y_test,y_pred))"
      ],
      "metadata": {
        "id": "JGIAv7DYIKyL"
      },
      "execution_count": null,
      "outputs": []
    },
    {
      "cell_type": "code",
      "execution_count": null,
      "metadata": {
        "id": "zk075QaKvSCT"
      },
      "outputs": [],
      "source": [
        "x_train = trainer(10000)\n",
        "y_train = new_labels[:10000]\n",
        "\n",
        "x_test = trainer1(10000)\n",
        "y_test = val_labels\n",
        "\n",
        "clf = SVC(kernel='linear')\n",
        "clf.fit(x_train,y_train)\n",
        "y_pred = clf.predict(x_test)\n",
        "y__pred = clf.predict(x_train)\n",
        "asdt = (accuracy_score(y_train, y__pred))\n",
        "asdv = (accuracy_score(y_test,y_pred))"
      ]
    },
    {
      "cell_type": "code",
      "source": [
        "valis = [one_vali, two_vali, five_vali, ten_vali, twe_vali, fif_vali, asdv]\n",
        "trains = [one_training, two_training, five_training, ten_training, twe_training, fif_training, asdt]\n",
        "nums = [100, 200, 500, 1000, 2000, 5000, 10000]\n",
        "plt.plot(nums, valis, label = \"validation\")\n",
        "plt.plot(nums, trains, label = \"training\")\n",
        "plt.ylabel(\"classification accuracy\")\n",
        "plt.xlabel(\"training examples\")\n",
        "plt.legend()\n",
        "plt.title(\"MNIST validation and training scores\")"
      ],
      "metadata": {
        "colab": {
          "base_uri": "https://localhost:8080/",
          "height": 312
        },
        "id": "1LCqocCqkWZG",
        "outputId": "7326df02-f090-41d0-979c-3ac1fec3ebaf"
      },
      "execution_count": null,
      "outputs": [
        {
          "output_type": "execute_result",
          "data": {
            "text/plain": [
              "Text(0.5, 1.0, 'MNIST validation and training scores')"
            ]
          },
          "metadata": {},
          "execution_count": 22
        },
        {
          "output_type": "display_data",
          "data": {
            "text/plain": [
              "<Figure size 432x288 with 1 Axes>"
            ],
            "image/png": "[encoded data removed]"
          },
          "metadata": {
            "needs_background": "light"
          }
        }
      ]
    },
    {
      "cell_type": "markdown",
      "source": [
        "SPAM"
      ],
      "metadata": {
        "id": "fu5thpCj7yAQ"
      }
    },
    {
      "cell_type": "code",
      "source": [
        "x_train = snew_train[:100]\n",
        "y_train = snew_labels[:100]\n",
        "\n",
        "x_test = sval_data\n",
        "y_test = sval_labels\n",
        "\n",
        "clf = SVC(kernel='linear')\n",
        "clf.fit(x_train,y_train)\n",
        "\n",
        "y_pred = clf.predict(x_test)\n",
        "y__pred = clf.predict(x_train)\n",
        "\n",
        "v1 = (accuracy_score(y_test,y_pred))\n",
        "t1 = (accuracy_score(y_train,y__pred))"
      ],
      "metadata": {
        "id": "gz6lEwy-AuRP"
      },
      "execution_count": null,
      "outputs": []
    },
    {
      "cell_type": "code",
      "source": [
        "x_train = snew_train[:200]\n",
        "y_train = snew_labels[:200]\n",
        "\n",
        "x_test = sval_data\n",
        "y_test = sval_labels\n",
        "\n",
        "clf = SVC(kernel='linear')\n",
        "clf.fit(x_train,y_train)\n",
        "\n",
        "y_pred = clf.predict(x_test)\n",
        "y__pred = clf.predict(x_train)\n",
        "\n",
        "v2 = (accuracy_score(y_test,y_pred))\n",
        "t2 = (accuracy_score(y_train,y__pred))"
      ],
      "metadata": {
        "id": "3TzOvugJAEkU"
      },
      "execution_count": null,
      "outputs": []
    },
    {
      "cell_type": "code",
      "source": [
        "x_train = snew_train[:500]\n",
        "y_train = snew_labels[:500]\n",
        "\n",
        "x_test = sval_data\n",
        "y_test = sval_labels\n",
        "\n",
        "clf = SVC(kernel='linear')\n",
        "clf.fit(x_train,y_train)\n",
        "\n",
        "y_pred = clf.predict(x_test)\n",
        "y__pred = clf.predict(x_train)\n",
        "\n",
        "v3 = (accuracy_score(y_test,y_pred))\n",
        "t3 = (accuracy_score(y_train,y__pred))"
      ],
      "metadata": {
        "id": "lVdJNfguA-Yv"
      },
      "execution_count": null,
      "outputs": []
    },
    {
      "cell_type": "code",
      "source": [
        "x_train = snew_train[:1000]\n",
        "y_train = snew_labels[:1000]\n",
        "\n",
        "x_test = sval_data\n",
        "y_test = sval_labels\n",
        "\n",
        "clf = SVC(kernel='linear')\n",
        "clf.fit(x_train,y_train)\n",
        "\n",
        "y_pred = clf.predict(x_test)\n",
        "y__pred = clf.predict(x_train)\n",
        "\n",
        "v4 = (accuracy_score(y_test,y_pred))\n",
        "t4 = (accuracy_score(y_train,y__pred))"
      ],
      "metadata": {
        "id": "bzlDNkNvBC1H"
      },
      "execution_count": null,
      "outputs": []
    },
    {
      "cell_type": "code",
      "source": [
        "x_train = snew_train[:2000]\n",
        "y_train = snew_labels[:2000]\n",
        "\n",
        "x_test = sval_data\n",
        "y_test = sval_labels\n",
        "\n",
        "clf = SVC(kernel='linear')\n",
        "clf.fit(x_train,y_train)\n",
        "\n",
        "y_pred = clf.predict(x_test)\n",
        "y__pred = clf.predict(x_train)\n",
        "\n",
        "v5 = (accuracy_score(y_test,y_pred))\n",
        "t5 = (accuracy_score(y_train,y__pred))"
      ],
      "metadata": {
        "id": "cMw33cPrBFuR"
      },
      "execution_count": null,
      "outputs": []
    },
    {
      "cell_type": "code",
      "source": [
        "x_train = snew_train\n",
        "y_train = snew_labels\n",
        "\n",
        "x_test = sval_data\n",
        "y_test = sval_labels\n",
        "\n",
        "clf = SVC(kernel='linear')\n",
        "clf.fit(x_train,y_train)\n",
        "\n",
        "y_pred = clf.predict(x_test)\n",
        "y__pred = clf.predict(x_train)\n",
        "\n",
        "v6 = (accuracy_score(y_test,y_pred))\n",
        "t6 = (accuracy_score(y_train,y__pred))"
      ],
      "metadata": {
        "id": "80bDpPE373a3"
      },
      "execution_count": null,
      "outputs": []
    },
    {
      "cell_type": "code",
      "source": [
        "valis = [v1, v2, v3, v4, v5, v6]\n",
        "trains = [t1, t2, t3, t4, t5, t6]\n",
        "nums = [100, 200, 500, 1000, 2000, len(snew_train)]\n",
        "plt.plot(nums, valis, label = \"validation\")\n",
        "plt.plot(nums, trains, label = \"training\")\n",
        "plt.ylabel(\"classification accuracy\")\n",
        "plt.xlabel(\"training examples\")\n",
        "plt.legend()\n",
        "plt.title(\"spam validation and training scores\")"
      ],
      "metadata": {
        "colab": {
          "base_uri": "https://localhost:8080/",
          "height": 312
        },
        "id": "rHI-XIooGHUL",
        "outputId": "80a7808e-75f2-4da9-e977-0489bb31aa0c"
      },
      "execution_count": null,
      "outputs": [
        {
          "output_type": "execute_result",
          "data": {
            "text/plain": [
              "Text(0.5, 1.0, 'spam validation and training scores')"
            ]
          },
          "metadata": {},
          "execution_count": 34
        },
        {
          "output_type": "display_data",
          "data": {
            "text/plain": [
              "<Figure size 432x288 with 1 Axes>"
            ],
            "image/png": "[encoded data removed]"
          },
          "metadata": {
            "needs_background": "light"
          }
        }
      ]
    },
    {
      "cell_type": "markdown",
      "source": [
        "CIFAR-10"
      ],
      "metadata": {
        "id": "M4axGx9oBpjg"
      }
    },
    {
      "cell_type": "code",
      "source": [
        "cifar = np.load(f\"hw1/data/cifar10-data.npz\")\n",
        "\n",
        "cold_train = cifar['training_data']\n",
        "cold_labels = cifar[\"training_labels\"]\n",
        "cseeding = []\n",
        "cval_data = []\n",
        "cval_labels = []\n",
        "\n",
        "cnew_train = [0] * 45000\n",
        "cnew_labels = [0] * 45000\n",
        "\n",
        "for ci in range(0, 50000):\n",
        "  cseeding.append(ci)\n",
        "\n",
        "shuffle(cseeding)\n",
        "\n",
        "for cj in range(0, 45000):\n",
        "  cnew_train[cj] = cold_train[cseeding[cj]]\n",
        "  cnew_labels[cj] = cold_labels[cseeding[cj]]  \n",
        "\n",
        "for ck in range(45000, 50000):\n",
        "  cval_data.append(cold_train[cseeding[ck]])\n",
        "  cval_labels.append(cold_labels[cseeding[ck]])"
      ],
      "metadata": {
        "id": "f_ggRnQfBrgy"
      },
      "execution_count": null,
      "outputs": []
    },
    {
      "cell_type": "code",
      "source": [
        "x_train = cnew_train[:100]\n",
        "y_train = cnew_labels[:100]\n",
        "\n",
        "x_test = cval_data\n",
        "y_test = cval_labels\n",
        "\n",
        "clf = SVC(kernel='linear')\n",
        "clf.fit(x_train,y_train)\n",
        "\n",
        "y_pred = clf.predict(x_test)\n",
        "y__pred = clf.predict(x_train)\n",
        "\n",
        "c1 = accuracy_score(y_test,y_pred)\n",
        "x1 = accuracy_score(y_train,y__pred)"
      ],
      "metadata": {
        "id": "p1t6BHhpDPnR"
      },
      "execution_count": null,
      "outputs": []
    },
    {
      "cell_type": "code",
      "source": [
        "x_train = cnew_train[:200]\n",
        "y_train = cnew_labels[:200]\n",
        "\n",
        "x_test = cval_data\n",
        "y_test = cval_labels\n",
        "\n",
        "clf = SVC(kernel='linear')\n",
        "clf.fit(x_train,y_train)\n",
        "\n",
        "y_pred = clf.predict(x_test)\n",
        "y__pred = clf.predict(x_train)\n",
        "\n",
        "c2 = (accuracy_score(y_test,y_pred))\n",
        "x2 = (accuracy_score(y_train,y__pred))"
      ],
      "metadata": {
        "id": "0inG5n3BJGjZ"
      },
      "execution_count": null,
      "outputs": []
    },
    {
      "cell_type": "code",
      "source": [
        "x_train = cnew_train[:500]\n",
        "y_train = cnew_labels[:500]\n",
        "\n",
        "x_test = cval_data\n",
        "y_test = cval_labels\n",
        "\n",
        "clf = SVC(kernel='linear')\n",
        "clf.fit(x_train,y_train)\n",
        "\n",
        "y_pred = clf.predict(x_test)\n",
        "y__pred = clf.predict(x_train)\n",
        "\n",
        "c3 = (accuracy_score(y_test,y_pred))\n",
        "x3 = (accuracy_score(y_train,y__pred))"
      ],
      "metadata": {
        "id": "e3WOHXkdJJra"
      },
      "execution_count": null,
      "outputs": []
    },
    {
      "cell_type": "code",
      "source": [
        "x_train = cnew_train[:1000]\n",
        "y_train = cnew_labels[:1000]\n",
        "\n",
        "x_test = cval_data\n",
        "y_test = cval_labels\n",
        "\n",
        "clf = SVC(kernel='linear')\n",
        "clf.fit(x_train,y_train)\n",
        "\n",
        "y_pred = clf.predict(x_test)\n",
        "y__pred = clf.predict(x_train)\n",
        "\n",
        "c4 = (accuracy_score(y_test,y_pred))\n",
        "x4 = (accuracy_score(y_train,y__pred))"
      ],
      "metadata": {
        "id": "l3tPTe9uJNuh"
      },
      "execution_count": null,
      "outputs": []
    },
    {
      "cell_type": "code",
      "source": [
        "x_train = cnew_train[:2000]\n",
        "y_train = cnew_labels[:2000]\n",
        "\n",
        "x_test = cval_data\n",
        "y_test = cval_labels\n",
        "\n",
        "clf = SVC(kernel='linear')\n",
        "clf.fit(x_train,y_train)\n",
        "\n",
        "y_pred = clf.predict(x_test)\n",
        "y__pred = clf.predict(x_train)\n",
        "\n",
        "c5 = (accuracy_score(y_test,y_pred))\n",
        "x5 = (accuracy_score(y_train,y__pred))"
      ],
      "metadata": {
        "id": "sPzGDya7JUCr"
      },
      "execution_count": null,
      "outputs": []
    },
    {
      "cell_type": "code",
      "source": [
        "x_train = cnew_train[:5000]\n",
        "y_train = cnew_labels[:5000]\n",
        "\n",
        "x_test = cval_data\n",
        "y_test = cval_labels\n",
        "\n",
        "clf = SVC(kernel='linear')\n",
        "clf.fit(x_train,y_train)\n",
        "\n",
        "y_pred = clf.predict(x_test)\n",
        "y__pred = clf.predict(x_train)\n",
        "\n",
        "c6 = (accuracy_score(y_test,y_pred))\n",
        "x6 = (accuracy_score(y_train,y__pred))"
      ],
      "metadata": {
        "id": "jLmvesWEJekF"
      },
      "execution_count": null,
      "outputs": []
    },
    {
      "cell_type": "code",
      "source": [
        "valis = [c1, c2, c3, c4, c5, c6]\n",
        "trains = [x1, x2, x3, x4, x5, x6]\n",
        "nums = [100, 200, 500, 1000, 2000, 5000]\n",
        "plt.plot(nums, valis, label = \"validation\")\n",
        "plt.plot(nums, trains, label = \"training\")\n",
        "plt.xlabel(\"training examples\")\n",
        "plt.ylabel(\"classification accuracies\")\n",
        "plt.legend()\n",
        "plt.title(\"cifar validation and training scores\")"
      ],
      "metadata": {
        "colab": {
          "base_uri": "https://localhost:8080/",
          "height": 312
        },
        "id": "-wHN4TLmIcvS",
        "outputId": "e1d0c2db-9462-478a-893b-91ab1695c234"
      },
      "execution_count": null,
      "outputs": [
        {
          "output_type": "execute_result",
          "data": {
            "text/plain": [
              "Text(0.5, 1.0, 'cifar validation and training scores')"
            ]
          },
          "metadata": {},
          "execution_count": 43
        },
        {
          "output_type": "display_data",
          "data": {
            "text/plain": [
              "<Figure size 432x288 with 1 Axes>"
            ],
            "image/png": "[encoded data removed]"
          },
          "metadata": {
            "needs_background": "light"
          }
        }
      ]
    },
    {
      "cell_type": "markdown",
      "source": [
        "**Problem 4: Hyperparameter Tuning**"
      ],
      "metadata": {
        "id": "0z6yQvVxYjbA"
      }
    },
    {
      "cell_type": "code",
      "source": [
        "x_train = trainer(10000)\n",
        "y_train = new_labels[:10000]\n",
        "\n",
        "x_test = trainer1(10000)\n",
        "y_test = val_labels\n",
        "\n",
        "clf = SVC(C = .001, kernel='linear')\n",
        "clf.fit(x_train,y_train)\n",
        "y_pred = clf.predict(x_test)\n",
        "\n",
        "print(accuracy_score(y_test,y_pred))"
      ],
      "metadata": {
        "colab": {
          "base_uri": "https://localhost:8080/"
        },
        "id": "Z_oGu6rfIs1o",
        "outputId": "263876f7-dcc5-4c55-ed05-e4fa0f3be9b9"
      },
      "execution_count": null,
      "outputs": [
        {
          "output_type": "stream",
          "name": "stdout",
          "text": [
            "0.901\n"
          ]
        }
      ]
    },
    {
      "cell_type": "code",
      "source": [
        "x_train = trainer(10000)\n",
        "y_train = new_labels[:10000]\n",
        "\n",
        "x_test = trainer1(10000)\n",
        "y_test = val_labels\n",
        "\n",
        "clf = SVC(C = .01, kernel='linear')\n",
        "clf.fit(x_train,y_train)\n",
        "y_pred = clf.predict(x_test)\n",
        "print(accuracy_score(y_test,y_pred))"
      ],
      "metadata": {
        "colab": {
          "base_uri": "https://localhost:8080/"
        },
        "id": "mCfCWpYKI5iV",
        "outputId": "8fcc57fa-c58b-43f6-9e70-68e72ff84ad7"
      },
      "execution_count": null,
      "outputs": [
        {
          "output_type": "stream",
          "name": "stdout",
          "text": [
            "0.9238\n"
          ]
        }
      ]
    },
    {
      "cell_type": "code",
      "source": [
        "x_train = trainer(10000)\n",
        "y_train = new_labels[:10000]\n",
        "\n",
        "x_test = trainer1(10000)\n",
        "y_test = val_labels\n",
        "\n",
        "clf = SVC(C = .1, kernel='linear')\n",
        "clf.fit(x_train,y_train)\n",
        "y_pred = clf.predict(x_test)\n",
        "\n",
        "print(accuracy_score(y_test,y_pred))"
      ],
      "metadata": {
        "colab": {
          "base_uri": "https://localhost:8080/"
        },
        "id": "v9mcoLl1JD2w",
        "outputId": "e1775b69-1f64-4767-f9c9-60928b667439"
      },
      "execution_count": null,
      "outputs": [
        {
          "output_type": "stream",
          "name": "stdout",
          "text": [
            "0.9285\n"
          ]
        }
      ]
    },
    {
      "cell_type": "code",
      "source": [
        "x_train = trainer(10000)\n",
        "y_train = new_labels[:10000]\n",
        "\n",
        "x_test = trainer1(10000)\n",
        "y_test = val_labels\n",
        "\n",
        "clf = SVC(C = 1, kernel='linear')\n",
        "clf.fit(x_train,y_train)\n",
        "y_pred = clf.predict(x_test)\n",
        "\n",
        "print(accuracy_score(y_test,y_pred))"
      ],
      "metadata": {
        "colab": {
          "base_uri": "https://localhost:8080/"
        },
        "id": "HWMLCy_OJnYs",
        "outputId": "e0ee10fb-2e8e-46a8-d3cb-4e227b0d6754"
      },
      "execution_count": null,
      "outputs": [
        {
          "output_type": "stream",
          "name": "stdout",
          "text": [
            "0.921\n"
          ]
        }
      ]
    },
    {
      "cell_type": "code",
      "source": [
        "x_train = trainer(10000)\n",
        "y_train = new_labels[:10000]\n",
        "\n",
        "x_test = trainer1(10000)\n",
        "y_test = val_labels\n",
        "\n",
        "clf = SVC(C = 3, kernel='linear')\n",
        "clf.fit(x_train,y_train)\n",
        "y_pred = clf.predict(x_test)\n",
        "\n",
        "print(accuracy_score(y_test,y_pred))"
      ],
      "metadata": {
        "colab": {
          "base_uri": "https://localhost:8080/"
        },
        "id": "1Y-2U9RiJxIL",
        "outputId": "7fe04613-ede5-4cc4-9493-88106531ccb4"
      },
      "execution_count": null,
      "outputs": [
        {
          "output_type": "stream",
          "name": "stdout",
          "text": [
            "0.9168\n"
          ]
        }
      ]
    },
    {
      "cell_type": "code",
      "source": [
        "x_train = trainer(10000)\n",
        "y_train = new_labels[:10000]\n",
        "\n",
        "x_test = trainer1(10000)\n",
        "y_test = val_labels\n",
        "\n",
        "clf = SVC(C = 9, kernel='linear')\n",
        "clf.fit(x_train,y_train)\n",
        "y_pred = clf.predict(x_test)\n",
        "\n",
        "print(accuracy_score(y_test,y_pred))"
      ],
      "metadata": {
        "colab": {
          "base_uri": "https://localhost:8080/"
        },
        "id": "rblChemRLuGp",
        "outputId": "b1261a0b-5d8c-457d-ce25-4d23c852074f"
      },
      "execution_count": null,
      "outputs": [
        {
          "output_type": "stream",
          "name": "stdout",
          "text": [
            "0.9159\n"
          ]
        }
      ]
    },
    {
      "cell_type": "code",
      "source": [
        "x_train = trainer(10000)\n",
        "y_train = new_labels[:10000]\n",
        "\n",
        "x_test = trainer1(10000)\n",
        "y_test = val_labels\n",
        "\n",
        "clf = SVC(C = 27, kernel='linear')\n",
        "clf.fit(x_train,y_train)\n",
        "y_pred = clf.predict(x_test)\n",
        "\n",
        "print(accuracy_score(y_test,y_pred))"
      ],
      "metadata": {
        "colab": {
          "base_uri": "https://localhost:8080/"
        },
        "id": "JmqrecwfL3tC",
        "outputId": "6c1a6eb3-37ac-457f-86c9-f3469a7ec928"
      },
      "execution_count": null,
      "outputs": [
        {
          "output_type": "stream",
          "name": "stdout",
          "text": [
            "0.9159\n"
          ]
        }
      ]
    },
    {
      "cell_type": "code",
      "source": [
        "x_train = trainer(10000)\n",
        "y_train = new_labels[:10000]\n",
        "\n",
        "x_test = trainer1(10000)\n",
        "y_test = val_labels\n",
        "\n",
        "clf = SVC(C = 81, kernel='linear')\n",
        "clf.fit(x_train,y_train)\n",
        "y_pred = clf.predict(x_test)\n",
        "\n",
        "print(accuracy_score(y_test,y_pred))"
      ],
      "metadata": {
        "colab": {
          "base_uri": "https://localhost:8080/"
        },
        "id": "75cFJo8HMAd7",
        "outputId": "22f41dcf-fb36-41bb-a20c-3b5ed69f37d0"
      },
      "execution_count": null,
      "outputs": [
        {
          "output_type": "stream",
          "name": "stdout",
          "text": [
            "0.9159\n"
          ]
        }
      ]
    },
    {
      "cell_type": "code",
      "source": [
        "x_train = trainer(10000)\n",
        "y_train = new_labels[:10000]\n",
        "\n",
        "x_test = trainer1(10000)\n",
        "y_test = val_labels\n",
        "\n",
        "clf = SVC(C = .05, kernel='linear')\n",
        "clf.fit(x_train,y_train)\n",
        "y_pred = clf.predict(x_test)\n",
        "\n",
        "print(accuracy_score(y_test,y_pred))"
      ],
      "metadata": {
        "colab": {
          "base_uri": "https://localhost:8080/"
        },
        "id": "Pg2Rd1ZNbR27",
        "outputId": "2c4612ad-871a-4b8b-8945-0c73a86f3554"
      },
      "execution_count": null,
      "outputs": [
        {
          "output_type": "stream",
          "name": "stdout",
          "text": [
            "0.9294\n"
          ]
        }
      ]
    },
    {
      "cell_type": "code",
      "source": [
        "x_train = trainer(10000)\n",
        "y_train = new_labels[:10000]\n",
        "\n",
        "x_test = trainer1(10000)\n",
        "y_test = val_labels\n",
        "\n",
        "clf = SVC(C = .08, kernel='linear')\n",
        "clf.fit(x_train,y_train)\n",
        "y_pred = clf.predict(x_test)\n",
        "\n",
        "print(accuracy_score(y_test,y_pred))"
      ],
      "metadata": {
        "colab": {
          "base_uri": "https://localhost:8080/"
        },
        "id": "hIO5nutybqYQ",
        "outputId": "843badfc-83a8-4d3a-a0ce-1857fabf9fb5"
      },
      "execution_count": null,
      "outputs": [
        {
          "output_type": "stream",
          "name": "stdout",
          "text": [
            "0.9287\n"
          ]
        }
      ]
    },
    {
      "cell_type": "code",
      "source": [
        "x_train = trainer(10000)\n",
        "y_train = new_labels[:10000]\n",
        "\n",
        "x_test = trainer1(10000)\n",
        "y_test = val_labels\n",
        "\n",
        "clf = SVC(C = .06, kernel='linear')\n",
        "clf.fit(x_train,y_train)\n",
        "y_pred = clf.predict(x_test)\n",
        "\n",
        "print(accuracy_score(y_test,y_pred))"
      ],
      "metadata": {
        "colab": {
          "base_uri": "https://localhost:8080/"
        },
        "id": "RUBE4GVPc7xi",
        "outputId": "eb79e421-6909-44fc-9d0a-81bfe4f221a8"
      },
      "execution_count": null,
      "outputs": [
        {
          "output_type": "stream",
          "name": "stdout",
          "text": [
            "0.93\n"
          ]
        }
      ]
    },
    {
      "cell_type": "code",
      "source": [
        "x_train = trainer(10000)\n",
        "y_train = new_labels[:10000]\n",
        "\n",
        "x_test = trainer1(10000)\n",
        "y_test = val_labels\n",
        "\n",
        "clf = SVC(C = .07, kernel='linear')\n",
        "clf.fit(x_train,y_train)\n",
        "y_pred = clf.predict(x_test)\n",
        "\n",
        "print(accuracy_score(y_test,y_pred))"
      ],
      "metadata": {
        "colab": {
          "base_uri": "https://localhost:8080/"
        },
        "id": "d8meIyZKb4wT",
        "outputId": "b95bd262-5301-4947-cf93-a97dd7c47814"
      },
      "execution_count": null,
      "outputs": [
        {
          "output_type": "stream",
          "name": "stdout",
          "text": [
            "0.9283\n"
          ]
        }
      ]
    },
    {
      "cell_type": "code",
      "source": [
        "x_train = trainer(10000)\n",
        "y_train = new_labels[:10000]\n",
        "\n",
        "x_test = trainer1(10000)\n",
        "y_test = val_labels\n",
        "\n",
        "clf = SVC(C = 100, kernel='linear')\n",
        "clf.fit(x_train,y_train)\n",
        "y_pred = clf.predict(x_test)\n",
        "\n",
        "print(accuracy_score(y_test,y_pred))"
      ],
      "metadata": {
        "colab": {
          "base_uri": "https://localhost:8080/"
        },
        "id": "zOKbziLccNkY",
        "outputId": "1d1a81fb-cfd9-4635-e7d5-c8170105a47b"
      },
      "execution_count": null,
      "outputs": [
        {
          "output_type": "stream",
          "name": "stdout",
          "text": [
            "0.9159\n"
          ]
        }
      ]
    },
    {
      "cell_type": "code",
      "source": [
        "x_train = trainer(50000)\n",
        "y_train = new_labels[:50000]\n",
        "\n",
        "x_test = trainer1(10000)\n",
        "y_test = val_labels\n",
        "\n",
        "clf = SVC(C = .06, kernel='linear')\n",
        "clf.fit(x_train,y_train)\n",
        "y_pred = clf.predict(x_test)\n",
        "\n",
        "print(accuracy_score(y_test,y_pred))"
      ],
      "metadata": {
        "colab": {
          "base_uri": "https://localhost:8080/"
        },
        "id": "nAScznnTdFhO",
        "outputId": "dae4ef6f-7593-4ed5-e763-0db7449bcef0"
      },
      "execution_count": null,
      "outputs": [
        {
          "output_type": "stream",
          "name": "stdout",
          "text": [
            "0.9411\n"
          ]
        }
      ]
    },
    {
      "cell_type": "markdown",
      "source": [
        "**Problem 5: K-Fold Cross-Validation**"
      ],
      "metadata": {
        "id": "eQnuv_22X6Oj"
      }
    },
    {
      "cell_type": "code",
      "source": [
        "spam = np.load(f\"hw1/data/spam-data.npz\")\n",
        "spam_train = spam[\"training_data\"]\n",
        "spam_labels = spam[\"training_labels\"]\n",
        "\n",
        "new_spam_train = []\n",
        "new_spam_labels = []\n",
        "\n",
        "seeds = []\n",
        "for i in range(len(spam_train)):\n",
        "  seeds.append(i)\n",
        "\n",
        "shuffle(seeds)\n",
        "\n",
        "for j in range(len(spam_train)):\n",
        "  new_spam_train.append(spam_train[seeds[j]])\n",
        "  new_spam_labels.append(spam_labels[seeds[j]])"
      ],
      "metadata": {
        "id": "vvIN75hRXkIm"
      },
      "execution_count": null,
      "outputs": []
    },
    {
      "cell_type": "code",
      "source": [
        "def five_fold(c):\n",
        "  numb = (len(new_spam_train)//5)\n",
        "  first_partition = new_spam_train[:numb]\n",
        "  first_labels = new_spam_labels[:numb]\n",
        "\n",
        "  second_partition = new_spam_train[numb: 2*numb]\n",
        "  second_labels = new_spam_labels[numb:2*numb]\n",
        "\n",
        "  third_partition = new_spam_train[2*numb: 3*numb]\n",
        "  third_labels = new_spam_labels[2*numb:3*numb]\n",
        "\n",
        "  fourth_partition = new_spam_train[3*numb: 4*numb]\n",
        "  fourth_labels = new_spam_labels[3*numb:4*numb]\n",
        "\n",
        "  fifth_partition = new_spam_train[4*numb:]\n",
        "  fifth_labels = new_spam_labels[4*numb:]\n",
        "\n",
        "\n",
        "  x_train = second_partition+third_partition+fourth_partition+fifth_partition\n",
        "  y_train = second_labels+third_labels+fourth_labels+fifth_labels\n",
        "\n",
        "  x_test = first_partition\n",
        "  y_test = first_labels\n",
        "\n",
        "  clf = SVC(C = c, kernel='linear')\n",
        "  clf.fit(x_train,y_train)\n",
        "  y_pred = clf.predict(x_test)\n",
        "  oneval = accuracy_score(y_test,y_pred)\n",
        "\n",
        "  x_train = first_partition+third_partition+fourth_partition+fifth_partition\n",
        "  y_train = first_labels+third_labels+fourth_labels+fifth_labels\n",
        "\n",
        "  x_test = second_partition\n",
        "  y_test = second_labels\n",
        "\n",
        "  clf = SVC(C = c, kernel='linear')\n",
        "  clf.fit(x_train,y_train)\n",
        "  y_pred = clf.predict(x_test)\n",
        "  twoval = accuracy_score(y_test,y_pred)\n",
        "\n",
        "  x_train = second_partition+first_partition+fourth_partition+fifth_partition\n",
        "  y_train = second_labels+first_labels+fourth_labels+fifth_labels\n",
        "\n",
        "  x_test = third_partition\n",
        "  y_test = third_labels\n",
        "\n",
        "  clf = SVC(C = c, kernel='linear')\n",
        "  clf.fit(x_train,y_train)\n",
        "  y_pred = clf.predict(x_test)\n",
        "  threeval = accuracy_score(y_test,y_pred)  \n",
        "\n",
        "  x_train = second_partition+third_partition+first_partition+fifth_partition\n",
        "  y_train = second_labels+third_labels+first_labels+fifth_labels\n",
        "\n",
        "  x_test = fourth_partition\n",
        "  y_test = fourth_labels\n",
        "\n",
        "  clf = SVC(C = c, kernel='linear')\n",
        "  clf.fit(x_train,y_train)\n",
        "  y_pred = clf.predict(x_test)\n",
        "  fourval = accuracy_score(y_test,y_pred)\n",
        "\n",
        "  x_train = second_partition+third_partition+fourth_partition+first_partition\n",
        "  y_train = second_labels+third_labels+fourth_labels+first_labels\n",
        "\n",
        "  x_test = fifth_partition\n",
        "  y_test = fifth_labels\n",
        "\n",
        "  clf = SVC(C = c, kernel='linear')\n",
        "  clf.fit(x_train,y_train)\n",
        "  y_pred = clf.predict(x_test)\n",
        "  fiveval = accuracy_score(y_test,y_pred)\n",
        "\n",
        "  avg = (oneval + twoval + threeval + fourval + fiveval) / 5\n",
        "  return avg"
      ],
      "metadata": {
        "id": "zke2laLwMxKk"
      },
      "execution_count": null,
      "outputs": []
    },
    {
      "cell_type": "code",
      "source": [
        "five_fold(.01)"
      ],
      "metadata": {
        "colab": {
          "base_uri": "https://localhost:8080/"
        },
        "id": "MNpPOtUjPu5X",
        "outputId": "1e780ca0-09af-4f99-924c-c1bbf070c2f0"
      },
      "execution_count": null,
      "outputs": [
        {
          "output_type": "execute_result",
          "data": {
            "text/plain": [
              "0.7787712413801017"
            ]
          },
          "metadata": {},
          "execution_count": 65
        }
      ]
    },
    {
      "cell_type": "code",
      "source": [
        "five_fold(.1)"
      ],
      "metadata": {
        "colab": {
          "base_uri": "https://localhost:8080/"
        },
        "id": "Lyx6PdZfPqOp",
        "outputId": "9e746a12-6ef9-4975-fbff-e4721d84e949"
      },
      "execution_count": null,
      "outputs": [
        {
          "output_type": "execute_result",
          "data": {
            "text/plain": [
              "0.7950672954459399"
            ]
          },
          "metadata": {},
          "execution_count": 66
        }
      ]
    },
    {
      "cell_type": "code",
      "source": [
        "five_fold(.5)"
      ],
      "metadata": {
        "colab": {
          "base_uri": "https://localhost:8080/"
        },
        "id": "bVYJT-dUPy-0",
        "outputId": "ee9e276b-25fd-4742-87d2-3d706c8eebc4"
      },
      "execution_count": null,
      "outputs": [
        {
          "output_type": "execute_result",
          "data": {
            "text/plain": [
              "0.8005800144573337"
            ]
          },
          "metadata": {},
          "execution_count": 68
        }
      ]
    },
    {
      "cell_type": "code",
      "source": [
        "five_fold(1)"
      ],
      "metadata": {
        "colab": {
          "base_uri": "https://localhost:8080/"
        },
        "id": "uaF6NnlyPahP",
        "outputId": "0e055f62-f74d-4892-e1c2-9580888778b8"
      },
      "execution_count": null,
      "outputs": [
        {
          "output_type": "execute_result",
          "data": {
            "text/plain": [
              "0.8008186752033779"
            ]
          },
          "metadata": {},
          "execution_count": 67
        }
      ]
    },
    {
      "cell_type": "code",
      "source": [
        "five_fold(2)"
      ],
      "metadata": {
        "colab": {
          "base_uri": "https://localhost:8080/"
        },
        "id": "Cw5e_xWFP24F",
        "outputId": "701a54db-6a8e-44dc-89db-cb67bdc84c34"
      },
      "execution_count": null,
      "outputs": [
        {
          "output_type": "execute_result",
          "data": {
            "text/plain": [
              "0.8020159948596147"
            ]
          },
          "metadata": {},
          "execution_count": 69
        }
      ]
    },
    {
      "cell_type": "code",
      "source": [
        "five_fold(4)"
      ],
      "metadata": {
        "colab": {
          "base_uri": "https://localhost:8080/"
        },
        "id": "v-7jfSZzfVtV",
        "outputId": "98c5097d-0035-477a-d14b-bd7ed734dde1"
      },
      "execution_count": null,
      "outputs": [
        {
          "output_type": "execute_result",
          "data": {
            "text/plain": [
              "0.8024921689442704"
            ]
          },
          "metadata": {},
          "execution_count": 71
        }
      ]
    },
    {
      "cell_type": "code",
      "source": [
        "five_fold(8)"
      ],
      "metadata": {
        "colab": {
          "base_uri": "https://localhost:8080/"
        },
        "id": "Juat-6Z_P75r",
        "outputId": "800dc617-34e0-4c6a-d062-649394a5f01f"
      },
      "execution_count": null,
      "outputs": [
        {
          "output_type": "execute_result",
          "data": {
            "text/plain": [
              "0.8027319770977476"
            ]
          },
          "metadata": {},
          "execution_count": 70
        }
      ]
    },
    {
      "cell_type": "code",
      "source": [
        "five_fold(16)"
      ],
      "metadata": {
        "colab": {
          "base_uri": "https://localhost:8080/"
        },
        "id": "0bTY3aHTQwBl",
        "outputId": "77cf1c9b-99b1-46f4-dd37-04b815899f9f"
      },
      "execution_count": null,
      "outputs": [
        {
          "output_type": "execute_result",
          "data": {
            "text/plain": [
              "0.8036912097116564"
            ]
          },
          "metadata": {},
          "execution_count": 72
        }
      ]
    },
    {
      "cell_type": "code",
      "source": [
        "five_fold(32)"
      ],
      "metadata": {
        "colab": {
          "base_uri": "https://localhost:8080/"
        },
        "id": "273_1XXEQGzT",
        "outputId": "7dc08942-c635-43ef-9b47-bc296281a2e0"
      },
      "execution_count": null,
      "outputs": [
        {
          "output_type": "execute_result",
          "data": {
            "text/plain": [
              "0.803211593404702"
            ]
          },
          "metadata": {},
          "execution_count": 73
        }
      ]
    },
    {
      "cell_type": "code",
      "source": [
        "five_fold(.001)"
      ],
      "metadata": {
        "colab": {
          "base_uri": "https://localhost:8080/"
        },
        "id": "5YOXLl5pgtC5",
        "outputId": "0c36a697-abff-4efe-ed5a-749bc6b20c8f"
      },
      "execution_count": null,
      "outputs": [
        {
          "output_type": "execute_result",
          "data": {
            "text/plain": [
              "0.74713090771402"
            ]
          },
          "metadata": {},
          "execution_count": 74
        }
      ]
    },
    {
      "cell_type": "code",
      "source": [
        "five_fold(12)"
      ],
      "metadata": {
        "colab": {
          "base_uri": "https://localhost:8080/"
        },
        "id": "lMQe8xHQg0CD",
        "outputId": "3765615c-100a-459a-83e0-5e2d79e798a5"
      },
      "execution_count": null,
      "outputs": [
        {
          "output_type": "execute_result",
          "data": {
            "text/plain": [
              "0.8027319770977476"
            ]
          },
          "metadata": {},
          "execution_count": 75
        }
      ]
    },
    {
      "cell_type": "code",
      "source": [
        "five_fold(24)"
      ],
      "metadata": {
        "colab": {
          "base_uri": "https://localhost:8080/"
        },
        "id": "d2pjuPXRhLoM",
        "outputId": "2d36cae4-48d1-4151-c95e-b0d8fd6369f2"
      },
      "execution_count": null,
      "outputs": [
        {
          "output_type": "execute_result",
          "data": {
            "text/plain": [
              "0.8029717852512249"
            ]
          },
          "metadata": {},
          "execution_count": 76
        }
      ]
    },
    {
      "cell_type": "markdown",
      "source": [
        "**6. Kaggle**"
      ],
      "metadata": {
        "id": "J2i5YAVnRSeG"
      }
    },
    {
      "cell_type": "markdown",
      "source": [
        "MNIST"
      ],
      "metadata": {
        "id": "pirLCEU4Rfc0"
      }
    },
    {
      "cell_type": "code",
      "source": [
        "x_train = trainer(50000)\n",
        "y_train = new_labels[:50000]\n",
        "\n",
        "x_test = trainer2(10000)\n",
        "\n",
        "clf = SVC(C = .06, kernel='linear')\n",
        "clf.fit(x_train,y_train)\n",
        "y_pred = clf.predict(x_test)"
      ],
      "metadata": {
        "id": "C9nn_J4rRW6a"
      },
      "execution_count": null,
      "outputs": []
    },
    {
      "cell_type": "code",
      "source": [
        "ls = [i for i in range(1, 10001)]\n",
        "pred = pd.DataFrame(y_pred,columns=['Category'])\n",
        "pred['id'] = ls\n",
        "pred.set_index('id', inplace = True)\n",
        "pred.to_csv(f\"mnistsub5.csv\")"
      ],
      "metadata": {
        "id": "kIVfc67MTiSk"
      },
      "execution_count": null,
      "outputs": []
    },
    {
      "cell_type": "markdown",
      "source": [
        "SPAM"
      ],
      "metadata": {
        "id": "Gx8AWeqoF855"
      }
    },
    {
      "cell_type": "code",
      "source": [
        "'''\n",
        "**************** PLEASE READ ***************\n",
        "\n",
        "Script that reads in spam and ham messages and converts each training example\n",
        "into a feature vector\n",
        "\n",
        "Code intended for UC Berkeley course CS 189/289A: Machine Learning\n",
        "\n",
        "Requirements:\n",
        "-scipy ('pip install scipy')\n",
        "\n",
        "To add your own features, create a function that takes in the raw text and\n",
        "word frequency dictionary and outputs a int or float. Then add your feature\n",
        "in the function 'def generate_feature_vector'\n",
        "\n",
        "The output of your file will be a .mat file. The data will be accessible using\n",
        "the following keys:\n",
        "    -'training_data'\n",
        "    -'training_labels'\n",
        "    -'test_data'\n",
        "\n",
        "Please direct any bugs to kevintee@berkeley.edu\n",
        "'''\n",
        "\n",
        "from collections import defaultdict\n",
        "import glob\n",
        "import re\n",
        "import scipy.io\n",
        "import numpy as np\n",
        "import pdb\n",
        "\n",
        "NUM_TRAINING_EXAMPLES = 4172\n",
        "NUM_TEST_EXAMPLES = 1000\n",
        "\n",
        "BASE_DIR = 'hw1/data/'\n",
        "SPAM_DIR = 'spam/'\n",
        "HAM_DIR = 'ham/'\n",
        "TEST_DIR = 'test/'\n",
        "\n",
        "# ************* Features *************\n",
        "\n",
        "# Features that look for certain words\n",
        "def freq_pain_feature(text, freq):\n",
        "    return float(freq['pain'])\n",
        "\n",
        "def freq_private_feature(text, freq):\n",
        "    return float(freq['private'])\n",
        "\n",
        "def freq_bank_feature(text, freq):\n",
        "    return float(freq['bank'])\n",
        "\n",
        "def freq_money_feature(text, freq):\n",
        "    return float(freq['money'])\n",
        "\n",
        "def freq_drug_feature(text, freq):\n",
        "    return float(freq['drug'])\n",
        "\n",
        "def freq_spam_feature(text, freq):\n",
        "    return float(freq['spam'])\n",
        "\n",
        "def freq_prescription_feature(text, freq):\n",
        "    return float(freq['prescription'])\n",
        "\n",
        "def freq_creative_feature(text, freq):\n",
        "    return float(freq['creative'])\n",
        "\n",
        "def freq_height_feature(text, freq):\n",
        "    return float(freq['height'])\n",
        "\n",
        "def freq_featured_feature(text, freq):\n",
        "    return float(freq['featured'])\n",
        "\n",
        "def freq_differ_feature(text, freq):\n",
        "    return float(freq['differ'])\n",
        "\n",
        "def freq_width_feature(text, freq):\n",
        "    return float(freq['width'])\n",
        "\n",
        "def freq_other_feature(text, freq):\n",
        "    return float(freq['other'])\n",
        "\n",
        "def freq_energy_feature(text, freq):\n",
        "    return float(freq['energy'])\n",
        "\n",
        "def freq_business_feature(text, freq):\n",
        "    return float(freq['business'])\n",
        "\n",
        "def freq_message_feature(text, freq):\n",
        "    return float(freq['message'])\n",
        "\n",
        "def freq_volumes_feature(text, freq):\n",
        "    return float(freq['volumes'])\n",
        "\n",
        "def freq_revision_feature(text, freq):\n",
        "    return float(freq['revision'])\n",
        "\n",
        "def freq_path_feature(text, freq):\n",
        "    return float(freq['path'])\n",
        "\n",
        "def freq_meter_feature(text, freq):\n",
        "    return float(freq['meter'])\n",
        "\n",
        "def freq_memo_feature(text, freq):\n",
        "    return float(freq['memo'])\n",
        "\n",
        "def freq_planning_feature(text, freq):\n",
        "    return float(freq['planning'])\n",
        "\n",
        "def freq_pleased_feature(text, freq):\n",
        "    return float(freq['pleased'])\n",
        "\n",
        "def freq_record_feature(text, freq):\n",
        "    return float(freq['record'])\n",
        "\n",
        "def freq_out_feature(text, freq):\n",
        "    return float(freq['out'])\n",
        "\n",
        "def freq_penis_feature(text, freq):\n",
        "    return float(freq['penis'])\n",
        "\n",
        "def freq_free_feature(text, freq):\n",
        "    return float(freq['free'])\n",
        "\n",
        "def freq_use_feature(text, freq):\n",
        "    return float(freq['use'])\n",
        "\n",
        "def freq_order_feature(text, freq):\n",
        "    return float(freq['order'])\n",
        "\n",
        "# Features that look for certain characters\n",
        "def freq_semicolon_feature(text, freq):\n",
        "    return text.count(';')\n",
        "\n",
        "def freq_dollar_feature(text, freq):\n",
        "    return text.count('$')\n",
        "\n",
        "def freq_sharp_feature(text, freq):\n",
        "    return text.count('#')\n",
        "\n",
        "def freq_exclamation_feature(text, freq):\n",
        "    return text.count('!')\n",
        "\n",
        "def freq_para_feature(text, freq):\n",
        "    return text.count('(')\n",
        "\n",
        "def freq_bracket_feature(text, freq):\n",
        "    return text.count('[')\n",
        "\n",
        "def freq_and_feature(text, freq):\n",
        "    return text.count('&')\n",
        "\n",
        "# --------- Add your own feature methods ----------\n",
        "def example_feature(text, freq):\n",
        "    return int('example' in text)\n",
        "\n",
        "# Generates a feature vector\n",
        "def generate_feature_vector(text, freq):\n",
        "    feature = []\n",
        "    feature.append(freq_pain_feature(text, freq))\n",
        "    feature.append(freq_private_feature(text, freq))\n",
        "    feature.append(freq_bank_feature(text, freq))\n",
        "    feature.append(freq_money_feature(text, freq))\n",
        "    feature.append(freq_drug_feature(text, freq))\n",
        "    feature.append(freq_spam_feature(text, freq))\n",
        "    feature.append(freq_prescription_feature(text, freq))\n",
        "    #feature.append(freq_creative_feature(text, freq))\n",
        "    feature.append(freq_height_feature(text, freq))\n",
        "    feature.append(freq_featured_feature(text, freq))\n",
        "    #feature.append(freq_differ_feature(text, freq))\n",
        "    feature.append(freq_width_feature(text, freq))\n",
        "    #feature.append(freq_other_feature(text, freq))\n",
        "    #feature.append(freq_energy_feature(text, freq))\n",
        "    feature.append(freq_business_feature(text, freq))\n",
        "    #feature.append(freq_message_feature(text, freq))\n",
        "    #feature.append(freq_volumes_feature(text, freq))\n",
        "    #feature.append(freq_revision_feature(text, freq))\n",
        "    feature.append(freq_path_feature(text, freq))\n",
        "    #feature.append(freq_meter_feature(text, freq))\n",
        "    #feature.append(freq_memo_feature(text, freq))\n",
        "    feature.append(freq_planning_feature(text, freq))\n",
        "    #feature.append(freq_pleased_feature(text, freq))\n",
        "    #feature.append(freq_record_feature(text, freq))\n",
        "    #feature.append(freq_out_feature(text, freq))\n",
        "    #feature.append(freq_semicolon_feature(text, freq))\n",
        "    feature.append(freq_dollar_feature(text, freq))\n",
        "    #feature.append(freq_sharp_feature(text, freq))\n",
        "    feature.append(freq_exclamation_feature(text, freq))\n",
        "    #feature.append(freq_para_feature(text, freq))\n",
        "    #feature.append(freq_bracket_feature(text, freq))\n",
        "    feature.append(freq_and_feature(text, freq))\n",
        "    #feature.append(freq_penis_feature(text, freq))\n",
        "    feature.append(freq_free_feature(text, freq))\n",
        "    #feature.append(freq_use_feature(text, freq))\n",
        "    #feature.append(freq_order_feature(text, freq))\n",
        "\n",
        "    # --------- Add your own features here ---------\n",
        "    # Make sure type is int or float\n",
        "\n",
        "    return feature\n",
        "\n",
        "# This method generates a design matrix with a list of filenames\n",
        "# Each file is a single training example\n",
        "def generate_design_matrix(filenames):\n",
        "    design_matrix = []\n",
        "    for filename in filenames:\n",
        "        with open(filename, 'r', encoding='utf-8', errors='ignore') as f:\n",
        "            try:\n",
        "                text = f.read() # Read in text from file\n",
        "            except Exception as e:\n",
        "                # skip files we have trouble reading.\n",
        "                continue\n",
        "            text = text.replace('\\r\\n', ' ') # Remove newline character\n",
        "            words = re.findall(r'\\w+', text)\n",
        "            words = [x.lower() for x in words]\n",
        "            word_freq = defaultdict(int) # Frequency of all words\n",
        "            for word in words:\n",
        "                word_freq[word] += 1\n",
        "\n",
        "            # Create a feature vector\n",
        "            feature_vector = generate_feature_vector(text, word_freq)\n",
        "            design_matrix.append(feature_vector)\n",
        "    return design_matrix\n",
        "\n",
        "# ************** Script starts here **************\n",
        "# DO NOT MODIFY ANYTHING BELOW\n",
        "\n",
        "spam_filenames = glob.glob(BASE_DIR + SPAM_DIR + '*.txt')\n",
        "spam_design_matrix = generate_design_matrix(spam_filenames)\n",
        "ham_filenames = glob.glob(BASE_DIR + HAM_DIR + '*.txt')\n",
        "ham_design_matrix = generate_design_matrix(ham_filenames)\n",
        "# Important: the test_filenames must be in numerical order as that is the\n",
        "# order we will be evaluating your classifier\n",
        "test_filenames = [BASE_DIR + TEST_DIR + str(x) + '.txt' for x in range(NUM_TEST_EXAMPLES)]\n",
        "test_design_matrix = generate_design_matrix(test_filenames)\n",
        "\n",
        "X = spam_design_matrix + ham_design_matrix\n",
        "Y = np.array([1]*len(spam_design_matrix) + [0]*len(ham_design_matrix)).reshape((-1, 1)).squeeze()\n",
        "\n",
        "np.savez(BASE_DIR + 'spam-data.npz', training_data=X, training_labels=Y, test_data=test_design_matrix)\n"
      ],
      "metadata": {
        "id": "vpCkIVTb0UoC"
      },
      "execution_count": null,
      "outputs": []
    },
    {
      "cell_type": "code",
      "source": [
        "spam = np.load(f\"hw1/data/spam-data.npz\")\n",
        "spam_train = spam[\"training_data\"]\n",
        "spam_labels = spam[\"training_labels\"]\n",
        "\n",
        "new_spam_train = []\n",
        "new_spam_labels = []\n",
        "\n",
        "seeds = []\n",
        "for i in range(len(spam_train)):\n",
        "  seeds.append(i)\n",
        "\n",
        "shuffle(seeds)\n",
        "\n",
        "for j in range(len(spam_train)):\n",
        "  new_spam_train.append(spam_train[seeds[j]])\n",
        "  new_spam_labels.append(spam_labels[seeds[j]])"
      ],
      "metadata": {
        "id": "J6I0zGhUoiY4"
      },
      "execution_count": null,
      "outputs": []
    },
    {
      "cell_type": "code",
      "source": [
        "def five_fold_model(model):\n",
        "  numb = (len(new_spam_train)//5)\n",
        "  first_partition = new_spam_train[:numb]\n",
        "  first_labels = new_spam_labels[:numb]\n",
        "\n",
        "  second_partition = new_spam_train[numb: 2*numb]\n",
        "  second_labels = new_spam_labels[numb:2*numb]\n",
        "\n",
        "  third_partition = new_spam_train[2*numb: 3*numb]\n",
        "  third_labels = new_spam_labels[2*numb:3*numb]\n",
        "\n",
        "  fourth_partition = new_spam_train[3*numb: 4*numb]\n",
        "  fourth_labels = new_spam_labels[3*numb:4*numb]\n",
        "\n",
        "  fifth_partition = new_spam_train[4*numb:]\n",
        "  fifth_labels = new_spam_labels[4*numb:]\n",
        "\n",
        "\n",
        "  x_train = second_partition+third_partition+fourth_partition+fifth_partition\n",
        "  y_train = second_labels+third_labels+fourth_labels+fifth_labels\n",
        "\n",
        "  x_test = first_partition\n",
        "  y_test = first_labels\n",
        "\n",
        "  model.fit(x_train,y_train)\n",
        "  y_pred = model.predict(x_test)\n",
        "  oneval = accuracy_score(y_test,y_pred)\n",
        "\n",
        "  x_train = first_partition+third_partition+fourth_partition+fifth_partition\n",
        "  y_train = first_labels+third_labels+fourth_labels+fifth_labels\n",
        "\n",
        "  x_test = second_partition\n",
        "  y_test = second_labels\n",
        "\n",
        "  model.fit(x_train,y_train)\n",
        "  y_pred = model.predict(x_test)\n",
        "  twoval = accuracy_score(y_test,y_pred)\n",
        "\n",
        "  x_train = second_partition+first_partition+fourth_partition+fifth_partition\n",
        "  y_train = second_labels+first_labels+fourth_labels+fifth_labels\n",
        "\n",
        "  x_test = third_partition\n",
        "  y_test = third_labels\n",
        "\n",
        "  model.fit(x_train,y_train)\n",
        "  y_pred = model.predict(x_test)\n",
        "  threeval = accuracy_score(y_test,y_pred)  \n",
        "\n",
        "  x_train = second_partition+third_partition+first_partition+fifth_partition\n",
        "  y_train = second_labels+third_labels+first_labels+fifth_labels\n",
        "\n",
        "  x_test = fourth_partition\n",
        "  y_test = fourth_labels\n",
        "\n",
        "  model.fit(x_train,y_train)\n",
        "  y_pred = model.predict(x_test)\n",
        "  fourval = accuracy_score(y_test,y_pred)\n",
        "\n",
        "  x_train = second_partition+third_partition+fourth_partition+first_partition\n",
        "  y_train = second_labels+third_labels+fourth_labels+first_labels\n",
        "\n",
        "  x_test = fifth_partition\n",
        "  y_test = fifth_labels\n",
        "\n",
        "  model.fit(x_train,y_train)\n",
        "  y_pred = model.predict(x_test)\n",
        "  fiveval = accuracy_score(y_test,y_pred)\n",
        "\n",
        "  avg = (oneval + twoval + threeval + fourval + fiveval) / 5\n",
        "  return avg"
      ],
      "metadata": {
        "id": "FL-fFmAzmqON"
      },
      "execution_count": null,
      "outputs": []
    },
    {
      "cell_type": "code",
      "source": [
        "spam_model = SVC(C = 4, kernel = \"rbf\", gamma = .06)\n",
        "five_fold_model(spam_model)"
      ],
      "metadata": {
        "colab": {
          "base_uri": "https://localhost:8080/"
        },
        "id": "oxZKOddhm_YX",
        "outputId": "67ca7956-467b-4d59-ce08-505b9d38d452"
      },
      "execution_count": null,
      "outputs": [
        {
          "output_type": "execute_result",
          "data": {
            "text/plain": [
              "0.80584489346322"
            ]
          },
          "metadata": {},
          "execution_count": 137
        }
      ]
    },
    {
      "cell_type": "code",
      "source": [
        "x_train = snew_train\n",
        "y_train = snew_labels\n",
        "\n",
        "x_test = spam['test_data']\n",
        "\n",
        "clf = SVC(kernel = \"rbf\", gamma = .1)\n",
        "clf.fit(x_train,y_train)\n",
        "\n",
        "y_pred = clf.predict(x_test)"
      ],
      "metadata": {
        "id": "W8WlHJCLaLOL"
      },
      "execution_count": null,
      "outputs": []
    },
    {
      "cell_type": "code",
      "source": [
        "ls = [i for i in range(1, 1001)]\n",
        "pred = pd.DataFrame(y_pred,columns=['Category'])\n",
        "pred['id'] = ls\n",
        "pred.set_index('id', inplace = True)\n",
        "pred.to_csv(f\"spamusubi1.csv\")"
      ],
      "metadata": {
        "id": "xubdfMwgF6-S"
      },
      "execution_count": null,
      "outputs": []
    },
    {
      "cell_type": "markdown",
      "source": [
        "CIFAR"
      ],
      "metadata": {
        "id": "whlaxFDPooS-"
      }
    },
    {
      "cell_type": "code",
      "source": [
        "x_train = cnew_train[:5000]\n",
        "y_train = cnew_labels[:5000]\n",
        "\n",
        "x_test = cifar['test_data']\n",
        "#x_test = cval_data\n",
        "#y_test = cval_labels\n",
        "\n",
        "clf = SVC(kernel='poly')\n",
        "clf.fit(x_train,y_train)\n",
        "\n",
        "y_pred = clf.predict(x_test)\n",
        "#y__pred = clf.predict(x_train)\n",
        "\n",
        "#print(accuracy_score(y_test,y_pred), \"validation\")\n",
        "#print(accuracy_score(y_train,y__pred), \"training\")"
      ],
      "metadata": {
        "id": "vrAY4cl0on-L"
      },
      "execution_count": null,
      "outputs": []
    },
    {
      "cell_type": "code",
      "source": [
        "ls = [i for i in range(1, 10001)]\n",
        "pred = pd.DataFrame(y_pred,columns=['Category'])\n",
        "pred['id'] = ls\n",
        "pred.set_index('id', inplace = True)\n",
        "pred.to_csv(f\"zephyrcove.csv\")"
      ],
      "metadata": {
        "id": "Z1HkF5uGozmd"
      },
      "execution_count": null,
      "outputs": []
    },
    {
      "cell_type": "code",
      "source": [
        "#!wget -nc https://raw.githubusercontent.com/brpy/colab-pdf/master/colab_pdf.py\n",
        "#from colab_pdf import colab_pdf\n",
        "#colab_pdf('homework-one.ipynb')"
      ],
      "metadata": {
        "colab": {
          "base_uri": "https://localhost:8080/",
          "height": 1000
        },
        "id": "3WrrH4hxIWHD",
        "outputId": "5f05cf73-1b46-4ed1-cf54-58d3a1b6a5ff"
      },
      "execution_count": null,
      "outputs": [
        {
          "output_type": "stream",
          "name": "stdout",
          "text": [
            "--2023-01-28 06:47:31--  https://raw.githubusercontent.com/brpy/colab-pdf/master/colab_pdf.py\n",
            "Resolving raw.githubusercontent.com (raw.githubusercontent.com)... 185.199.108.133, 185.199.109.133, 185.199.110.133, ...\n",
            "Connecting to raw.githubusercontent.com (raw.githubusercontent.com)|185.199.108.133|:443... connected.\n",
            "HTTP request sent, awaiting response... 200 OK\n",
            "Length: 1864 (1.8K) [text/plain]\n",
            "Saving to: ‘colab_pdf.py’\n",
            "\n",
            "colab_pdf.py        100%[===================>]   1.82K  --.-KB/s    in 0s      \n",
            "\n",
            "2023-01-28 06:47:31 (17.2 MB/s) - ‘colab_pdf.py’ saved [1864/1864]\n",
            "\n",
            "Mounted at /content/drive/\n",
            "\n",
            "WARNING: apt does not have a stable CLI interface. Use with caution in scripts.\n",
            "\n",
            "\n",
            "WARNING: apt does not have a stable CLI interface. Use with caution in scripts.\n",
            "\n",
            "E: Unable to locate package texlive-generic-recommended\n",
            "[NbConvertApp] WARNING | pattern '$notebookpath$file_name' matched no files\n",
            "This application is used to convert notebook files (*.ipynb)\n",
            "        to various other formats.\n",
            "\n",
            "        WARNING: THE COMMANDLINE INTERFACE MAY CHANGE IN FUTURE RELEASES.\n",
            "\n",
            "Options\n",
            "=======\n",
            "The options below are convenience aliases to configurable class-options,\n",
            "as listed in the \"Equivalent to\" description-line of the aliases.\n",
            "To see all configurable class-options for some <cmd>, use:\n",
            "    <cmd> --help-all\n",
            "\n",
            "--debug\n",
            "    set log level to logging.DEBUG (maximize logging output)\n",
            "    Equivalent to: [--Application.log_level=10]\n",
            "--show-config\n",
            "    Show the application's configuration (human-readable format)\n",
            "    Equivalent to: [--Application.show_config=True]\n",
            "--show-config-json\n",
            "    Show the application's configuration (json format)\n",
            "    Equivalent to: [--Application.show_config_json=True]\n",
            "--generate-config\n",
            "    generate default config file\n",
            "    Equivalent to: [--JupyterApp.generate_config=True]\n",
            "-y\n",
            "    Answer yes to any questions instead of prompting.\n",
            "    Equivalent to: [--JupyterApp.answer_yes=True]\n",
            "--execute\n",
            "    Execute the notebook prior to export.\n",
            "    Equivalent to: [--ExecutePreprocessor.enabled=True]\n",
            "--allow-errors\n",
            "    Continue notebook execution even if one of the cells throws an error and include the error message in the cell output (the default behaviour is to abort conversion). This flag is only relevant if '--execute' was specified, too.\n",
            "    Equivalent to: [--ExecutePreprocessor.allow_errors=True]\n",
            "--stdin\n",
            "    read a single notebook file from stdin. Write the resulting notebook with default basename 'notebook.*'\n",
            "    Equivalent to: [--NbConvertApp.from_stdin=True]\n",
            "--stdout\n",
            "    Write notebook output to stdout instead of files.\n",
            "    Equivalent to: [--NbConvertApp.writer_class=StdoutWriter]\n",
            "--inplace\n",
            "    Run nbconvert in place, overwriting the existing notebook (only \n",
            "            relevant when converting to notebook format)\n",
            "    Equivalent to: [--NbConvertApp.use_output_suffix=False --NbConvertApp.export_format=notebook --FilesWriter.build_directory=]\n",
            "--clear-output\n",
            "    Clear output of current file and save in place, \n",
            "            overwriting the existing notebook.\n",
            "    Equivalent to: [--NbConvertApp.use_output_suffix=False --NbConvertApp.export_format=notebook --FilesWriter.build_directory= --ClearOutputPreprocessor.enabled=True]\n",
            "--no-prompt\n",
            "    Exclude input and output prompts from converted document.\n",
            "    Equivalent to: [--TemplateExporter.exclude_input_prompt=True --TemplateExporter.exclude_output_prompt=True]\n",
            "--no-input\n",
            "    Exclude input cells and output prompts from converted document. \n",
            "            This mode is ideal for generating code-free reports.\n",
            "    Equivalent to: [--TemplateExporter.exclude_output_prompt=True --TemplateExporter.exclude_input=True]\n",
            "--log-level=<Enum>\n",
            "    Set the log level by value or name.\n",
            "    Choices: any of [0, 10, 20, 30, 40, 50, 'DEBUG', 'INFO', 'WARN', 'ERROR', 'CRITICAL']\n",
            "    Default: 30\n",
            "    Equivalent to: [--Application.log_level]\n",
            "--config=<Unicode>\n",
            "    Full path of a config file.\n",
            "    Default: ''\n",
            "    Equivalent to: [--JupyterApp.config_file]\n",
            "--to=<Unicode>\n",
            "    The export format to be used, either one of the built-in formats\n",
            "            ['asciidoc', 'custom', 'html', 'latex', 'markdown', 'notebook', 'pdf', 'python', 'rst', 'script', 'slides']\n",
            "            or a dotted object name that represents the import path for an\n",
            "            `Exporter` class\n",
            "    Default: 'html'\n",
            "    Equivalent to: [--NbConvertApp.export_format]\n",
            "--template=<Unicode>\n",
            "    Name of the template file to use\n",
            "    Default: ''\n",
            "    Equivalent to: [--TemplateExporter.template_file]\n",
            "--writer=<DottedObjectName>\n",
            "    Writer class used to write the \n",
            "                                        results of the conversion\n",
            "    Default: 'FilesWriter'\n",
            "    Equivalent to: [--NbConvertApp.writer_class]\n",
            "--post=<DottedOrNone>\n",
            "    PostProcessor class used to write the\n",
            "                                        results of the conversion\n",
            "    Default: ''\n",
            "    Equivalent to: [--NbConvertApp.postprocessor_class]\n",
            "--output=<Unicode>\n",
            "    overwrite base name use for output files.\n",
            "                can only be used when converting one notebook at a time.\n",
            "    Default: ''\n",
            "    Equivalent to: [--NbConvertApp.output_base]\n",
            "--output-dir=<Unicode>\n",
            "    Directory to write output(s) to. Defaults\n",
            "                                  to output to the directory of each notebook. To recover\n",
            "                                  previous default behaviour (outputting to the current \n",
            "                                  working directory) use . as the flag value.\n",
            "    Default: ''\n",
            "    Equivalent to: [--FilesWriter.build_directory]\n",
            "--reveal-prefix=<Unicode>\n",
            "    The URL prefix for reveal.js (version 3.x).\n",
            "            This defaults to the reveal CDN, but can be any url pointing to a copy \n",
            "            of reveal.js. \n",
            "            For speaker notes to work, this must be a relative path to a local \n",
            "            copy of reveal.js: e.g., \"reveal.js\".\n",
            "            If a relative path is given, it must be a subdirectory of the\n",
            "            current directory (from which the server is run).\n",
            "            See the usage documentation\n",
            "            (https://nbconvert.readthedocs.io/en/latest/usage.html#reveal-js-html-slideshow)\n",
            "            for more details.\n",
            "    Default: ''\n",
            "    Equivalent to: [--SlidesExporter.reveal_url_prefix]\n",
            "--nbformat=<Enum>\n",
            "    The nbformat version to write.\n",
            "            Use this to downgrade notebooks.\n",
            "    Choices: any of [1, 2, 3, 4]\n",
            "    Default: 4\n",
            "    Equivalent to: [--NotebookExporter.nbformat_version]\n",
            "\n",
            "Examples\n",
            "--------\n",
            "\n",
            "    The simplest way to use nbconvert is\n",
            "\n",
            "            > jupyter nbconvert mynotebook.ipynb\n",
            "\n",
            "            which will convert mynotebook.ipynb to the default format (probably HTML).\n",
            "\n",
            "            You can specify the export format with `--to`.\n",
            "            Options include ['asciidoc', 'custom', 'html', 'latex', 'markdown', 'notebook', 'pdf', 'python', 'rst', 'script', 'slides'].\n",
            "\n",
            "            > jupyter nbconvert --to latex mynotebook.ipynb\n",
            "\n",
            "            Both HTML and LaTeX support multiple output templates. LaTeX includes\n",
            "            'base', 'article' and 'report'.  HTML includes 'basic' and 'full'. You\n",
            "            can specify the flavor of the format used.\n",
            "\n",
            "            > jupyter nbconvert --to html --template basic mynotebook.ipynb\n",
            "\n",
            "            You can also pipe the output to stdout, rather than a file\n",
            "\n",
            "            > jupyter nbconvert mynotebook.ipynb --stdout\n",
            "\n",
            "            PDF is generated via latex\n",
            "\n",
            "            > jupyter nbconvert mynotebook.ipynb --to pdf\n",
            "\n",
            "            You can get (and serve) a Reveal.js-powered slideshow\n",
            "\n",
            "            > jupyter nbconvert myslides.ipynb --to slides --post serve\n",
            "\n",
            "            Multiple notebooks can be given at the command line in a couple of \n",
            "            different ways:\n",
            "\n",
            "            > jupyter nbconvert notebook*.ipynb\n",
            "            > jupyter nbconvert notebook1.ipynb notebook2.ipynb\n",
            "\n",
            "            or you can specify the notebooks list in a config file, containing::\n",
            "\n",
            "                c.NbConvertApp.notebooks = [\"my_notebook.ipynb\"]\n",
            "\n",
            "            > jupyter nbconvert --config mycfg.py\n",
            "\n",
            "To see all available configurables, use `--help-all`.\n",
            "\n"
          ]
        },
        {
          "output_type": "execute_result",
          "data": {
            "text/plain": [
              "'File Download Unsuccessful. Saved in Google Drive'"
            ],
            "application/vnd.google.colaboratory.intrinsic+json": {
              "type": "string"
            }
          },
          "metadata": {},
          "execution_count": 1
        }
      ]
    }
  ],
  "metadata": {
    "colab": {
      "provenance": []
    },
    "kernelspec": {
      "display_name": "Python 3",
      "name": "python3"
    },
    "language_info": {
      "name": "python"
    }
  },
  "nbformat": 4,
  "nbformat_minor": 0
}