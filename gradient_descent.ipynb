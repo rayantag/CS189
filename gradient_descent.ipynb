{
  "cells": [
    {
      "cell_type": "code",
      "execution_count": null,
      "metadata": {
        "id": "k9kklO5Ng5fk"
      },
      "outputs": [],
      "source": [
        "from scipy.io import loadmat\n",
        "import pandas as pd\n",
        "from sklearn.preprocessing import MinMaxScaler\n",
        "import numpy as np\n",
        "import math\n",
        "from scipy.special import expit, logit\n",
        "import random\n",
        "import matplotlib.pyplot as plt"
      ]
    },
    {
      "cell_type": "code",
      "execution_count": null,
      "metadata": {
        "id": "ETu8oQ9TiEtI"
      },
      "outputs": [],
      "source": [
        "data = loadmat('data.mat')"
      ]
    },
    {
      "cell_type": "code",
      "execution_count": null,
      "metadata": {
        "id": "WE0IJLuOGiUT"
      },
      "outputs": [],
      "source": [
        "for i in data:\n",
        "  print(i)"
      ]
    },
    {
      "cell_type": "markdown",
      "metadata": {
        "id": "TBXerx3LjQ9s"
      },
      "source": [
        "**Feature Normalization**"
      ]
    },
    {
      "cell_type": "code",
      "execution_count": null,
      "metadata": {
        "id": "aqeVd1LQl1Xl"
      },
      "outputs": [],
      "source": [
        "x_data = data['X']\n",
        "y_data = data['y']\n",
        "cols = data['description']"
      ]
    },
    {
      "cell_type": "code",
      "execution_count": null,
      "metadata": {
        "id": "mHEAFsnXkXiK"
      },
      "outputs": [],
      "source": [
        "# KAGGLE SET\n",
        "\n",
        "x_data = data['X']\n",
        "df = pd.DataFrame(x_data, columns = cols)\n",
        "df=(df - df.mean())/df.std()\n",
        "new_d = [1] * 6000\n",
        "df['new dim'] = new_d\n",
        "t_df = df.transpose()\n",
        "t_df"
      ]
    },
    {
      "cell_type": "code",
      "execution_count": null,
      "metadata": {
        "id": "BWKPGBTsigig"
      },
      "outputs": [],
      "source": [
        "df = pd.DataFrame(x_data, columns = cols)\n",
        "df['y'] = y_data\n",
        "np.random.seed(313)\n",
        "df = df.sample(frac = 1, ignore_index = True)\n",
        "df"
      ]
    },
    {
      "cell_type": "code",
      "execution_count": null,
      "metadata": {
        "id": "E6NB0ktoJLLa"
      },
      "outputs": [],
      "source": [
        "x_train = df.head(5000)\n",
        "x_val = df.tail(1000)\n",
        "x_train"
      ]
    },
    {
      "cell_type": "code",
      "execution_count": null,
      "metadata": {
        "id": "cEG45m1uKHSi"
      },
      "outputs": [],
      "source": [
        "train_labels = np.reshape(np.array(x_train['y']), [5000, 1])\n",
        "x_train = x_train.drop('y', axis = 1)"
      ]
    },
    {
      "cell_type": "code",
      "execution_count": null,
      "metadata": {
        "id": "D3VHtrIrKZnO"
      },
      "outputs": [],
      "source": [
        "norm_train=(x_train - x_train.mean())/x_train.std()\n",
        "new_d = [1] * 5000\n",
        "norm_train['new dim'] = new_d\n",
        "norm_train"
      ]
    },
    {
      "cell_type": "markdown",
      "metadata": {
        "id": "2f745t7HnsmS"
      },
      "source": [
        "**Add fictitious dimension**"
      ]
    },
    {
      "cell_type": "code",
      "execution_count": null,
      "metadata": {
        "id": "urwhkO65AqBi"
      },
      "outputs": [],
      "source": [
        "nt = norm_train.transpose()\n",
        "nt"
      ]
    },
    {
      "cell_type": "markdown",
      "metadata": {
        "id": "VBDEqAYVIsT1"
      },
      "source": [
        "**3.2: Batch Gradient Descent**"
      ]
    },
    {
      "cell_type": "code",
      "execution_count": null,
      "metadata": {
        "id": "3gP_bnxlPnOV"
      },
      "outputs": [],
      "source": [
        "def sigmoid(x):\n",
        "  return expit(x)"
      ]
    },
    {
      "cell_type": "code",
      "execution_count": null,
      "metadata": {
        "id": "ORNh2Q9J1CwZ"
      },
      "outputs": [],
      "source": [
        "def cost(s, reg, w):\n",
        "  w1 = np.array(w)\n",
        "  y = train_labels\n",
        "  new_y = np.reshape(y, [1, 5000])\n",
        "  s = np.array(s)\n",
        "  s = np.reshape(s, [5000, 1])\n",
        "  diff_s = 1 - s\n",
        "  diff_y = 1 - new_y\n",
        "  return (np.dot((-1 * new_y), np.log(s)) - np.dot(diff_y, np.log(diff_s)) + reg * (np.linalg.norm(w1))**2)"
      ]
    },
    {
      "cell_type": "code",
      "execution_count": null,
      "metadata": {
        "id": "pVtlWpaVKBuU"
      },
      "outputs": [],
      "source": [
        "def BGD(w, s, X, y, ep, reg, delta):\n",
        "\n",
        "  cost1 = np.inf\n",
        "  \n",
        "  counter = 0\n",
        "  plot = []\n",
        "  costs = []\n",
        "  \n",
        "  while counter < delta: \n",
        "    for i in range(len(s)):\n",
        "      s[i] = sigmoid((np.dot(np.reshape(np.array(w), [1, 13]), np.reshape(np.array(nt[i]), [13, 1]))))\n",
        "    cost1 = cost(s, reg, w)\n",
        "    w = np.reshape(np.array(w), [13,1])\n",
        "    w = w - (ep * (2 * reg * w - (np.dot(nt, (y - np.reshape(s, [5000, 1]))))))\n",
        "    costs.append(cost1.flatten())\n",
        "    counter += 1\n",
        "    plot += [counter, cost1]\n",
        "  return costs"
      ]
    },
    {
      "cell_type": "code",
      "execution_count": null,
      "metadata": {
        "id": "GFDDEL5_CJZV"
      },
      "outputs": [],
      "source": [
        "w = [0] * 13\n",
        "s = [0] * 5000\n",
        "for i in range(len(s)):\n",
        "  s[i] = sigmoid((np.dot(w, np.array(nt[i]))))\n",
        "X = nt\n",
        "y = train_labels\n",
        "ep = .001\n",
        "reg = .01\n",
        "delta = 5000"
      ]
    },
    {
      "cell_type": "code",
      "execution_count": null,
      "metadata": {
        "colab": {
          "base_uri": "https://localhost:8080/",
          "height": 312
        },
        "id": "so8yfwT_Oz4E",
        "outputId": "57f3d152-d15c-4598-c893-07389b8c1af3"
      },
      "outputs": [
        {
          "data": {
            "text/plain": [
              "Text(0, 0.5, 'cost')"
            ]
          },
          "execution_count": 67,
          "metadata": {},
          "output_type": "execute_result"
        },
        {
          "data": {
            "image/png": "[encoded data removed]",
            "text/plain": [
              "<Figure size 432x288 with 1 Axes>"
            ]
          },
          "metadata": {
            "needs_background": "light"
          },
          "output_type": "display_data"
        }
      ],
      "source": [
        "y = BGD(w, s, nt, y, ep, reg, delta)\n",
        "x = [i for i in range(0, delta)]\n",
        "\n",
        "plt.plot(x, y, label = \"validation\")\n",
        "plt.title(\"graph of cost vs num iterations BGD\")\n",
        "plt.xlabel(\"number of iterations\")\n",
        "plt.ylabel(\"cost\")"
      ]
    },
    {
      "cell_type": "markdown",
      "metadata": {
        "id": "DW8og5yjk-0q"
      },
      "source": [
        "**KAGGLE**"
      ]
    },
    {
      "cell_type": "code",
      "execution_count": null,
      "metadata": {
        "id": "_eRg5haDk-ZU"
      },
      "outputs": [],
      "source": [
        "def cost(s, reg, w):\n",
        "  w1 = np.array(w)\n",
        "  y = data['y']\n",
        "  new_y = np.reshape(y, [1, 6000])\n",
        "  s = np.array(s)\n",
        "  s = np.reshape(s, [6000, 1])\n",
        "  diff_s = 1 - s\n",
        "  diff_y = 1 - new_y\n",
        "  return (np.dot((-1 * new_y), np.log(s)) - np.dot(diff_y, np.log(diff_s)) + reg * (np.linalg.norm(w1))**2)"
      ]
    },
    {
      "cell_type": "code",
      "execution_count": null,
      "metadata": {
        "id": "cCV0AhsqlEFv"
      },
      "outputs": [],
      "source": [
        "def BGD(w, s, X, y, ep, reg, delta):\n",
        "\n",
        "  cost1 = np.inf\n",
        "  \n",
        "  counter = 0\n",
        "  plot = []\n",
        "  costs = []\n",
        "  \n",
        "  while counter < delta: \n",
        "    for i in range(len(s)):\n",
        "      s[i] = sigmoid((np.dot(np.reshape(np.array(w), [1, 13]), np.reshape(np.array(X[i]), [13, 1]))))\n",
        "    cost1 = cost(s, reg, w)\n",
        "    w = np.reshape(np.array(w), [13,1])\n",
        "    w = w - (ep * (2 * reg * w - (np.dot(X, (y - np.reshape(s, [6000, 1]))))))\n",
        "    costs.append(cost1.flatten())\n",
        "    counter += 1\n",
        "    plot += [counter, cost1]\n",
        "  return w"
      ]
    },
    {
      "cell_type": "code",
      "execution_count": null,
      "metadata": {
        "id": "sbrvbQ9vlH2f"
      },
      "outputs": [],
      "source": [
        "w = [0] * 13\n",
        "s = [0] * 6000\n",
        "for i in range(len(s)):\n",
        "  s[i] = sigmoid((np.dot(w, np.array(t_df[i]))))\n",
        "X = t_df\n",
        "y = data['y']\n",
        "ep = .001\n",
        "reg = .01\n",
        "delta = 5000"
      ]
    },
    {
      "cell_type": "code",
      "execution_count": null,
      "metadata": {
        "id": "qcTZxa5IlTGX"
      },
      "outputs": [],
      "source": [
        "weights = BGD(w, s, X, y, ep, reg, delta)\n",
        "weights"
      ]
    },
    {
      "cell_type": "markdown",
      "metadata": {
        "id": "7xYHeAswlUnN"
      },
      "source": [
        "**BGD Validation + Kaggle Submission**"
      ]
    },
    {
      "cell_type": "code",
      "execution_count": null,
      "metadata": {
        "id": "8eXNduCwQHq6"
      },
      "outputs": [],
      "source": [
        "weights = BGD(w, s, nt, y, ep, reg, delta)\n",
        "weights"
      ]
    },
    {
      "cell_type": "code",
      "execution_count": null,
      "metadata": {
        "id": "Ipjj_9ekUJje"
      },
      "outputs": [],
      "source": [
        "val_labels = np.array(x_val['y'])\n",
        "val_labels"
      ]
    },
    {
      "cell_type": "code",
      "execution_count": null,
      "metadata": {
        "id": "R4IT1Dk6To6Q"
      },
      "outputs": [],
      "source": [
        "#x_val\n",
        "x_val = df.tail(1000)\n",
        "x_val.reset_index()\n",
        "val_labels = np.array(x_val['y'])\n",
        "x_val = x_val.drop('y', axis = 1)\n",
        "x_val = (x_val - x_train.mean())/x_train.std()\n",
        "d = [1] * 1000\n",
        "x_val['new dim'] = d\n",
        "x_val"
      ]
    },
    {
      "cell_type": "code",
      "execution_count": null,
      "metadata": {
        "id": "p3yu15ECWrvU"
      },
      "outputs": [],
      "source": [
        "val_t = x_val.transpose()\n",
        "val_t"
      ]
    },
    {
      "cell_type": "code",
      "execution_count": null,
      "metadata": {
        "colab": {
          "base_uri": "https://localhost:8080/"
        },
        "id": "FxERZ_DaXY0E",
        "outputId": "baa5db1f-eaa0-407d-ba82-81397aeb064e"
      },
      "outputs": [
        {
          "data": {
            "text/plain": [
              "(13,)"
            ]
          },
          "execution_count": 132,
          "metadata": {},
          "output_type": "execute_result"
        }
      ],
      "source": [
        "wr = np.reshape(weights, [1, 13])\n",
        "val_t[5000].shape"
      ]
    },
    {
      "cell_type": "code",
      "execution_count": null,
      "metadata": {
        "id": "wJX2S7fhW1mF"
      },
      "outputs": [],
      "source": [
        "preds = [0] * 1000\n",
        "wr = np.reshape(weights, [1, 13])\n",
        "for i in range(5000, 6000):\n",
        "  preds[i - 5000] = (np.rint(sigmoid(np.dot(wr, np.reshape(np.array(val_t[i]), [13, 1]))))).flatten()\n",
        "preds"
      ]
    },
    {
      "cell_type": "code",
      "execution_count": null,
      "metadata": {
        "colab": {
          "base_uri": "https://localhost:8080/"
        },
        "id": "azCBnWwjY5ew",
        "outputId": "fb637b49-b68f-490f-c917-3ee8398b9730"
      },
      "outputs": [
        {
          "name": "stdout",
          "output_type": "stream",
          "text": [
            "1000\n"
          ]
        }
      ],
      "source": [
        "correct = 0\n",
        "for q in range(len(preds)):\n",
        "  if preds[q] == val_labels[q]:\n",
        "    correct += 1\n",
        "print(correct)"
      ]
    },
    {
      "cell_type": "code",
      "execution_count": null,
      "metadata": {
        "id": "bOFLf023ZjHy"
      },
      "outputs": [],
      "source": [
        "x_test = data['X_test']\n",
        "stuff = [0] * len(data['X_test'])\n",
        "for i in range(len(x_test)):\n",
        "  stuff[i] = np.append(x_test[i], 1)"
      ]
    },
    {
      "cell_type": "code",
      "execution_count": null,
      "metadata": {
        "id": "XI5mXEv8fsaE"
      },
      "outputs": [],
      "source": [
        "df_test = pd.DataFrame(x_test, columns = cols)\n",
        "df_test = (df_test - df_test.mean())/df_test.std()\n",
        "d = [1] * 497\n",
        "df_test['new dim'] = d\n",
        "df_test"
      ]
    },
    {
      "cell_type": "code",
      "execution_count": null,
      "metadata": {
        "id": "iN2HZl5jgRvf"
      },
      "outputs": [],
      "source": [
        "trans = df_test.transpose()\n",
        "trans"
      ]
    },
    {
      "cell_type": "code",
      "execution_count": null,
      "metadata": {
        "id": "ijIpskSScL37"
      },
      "outputs": [],
      "source": [
        "preddy = [0] * 497\n",
        "wr = np.reshape(weights, [1, 13])\n",
        "for i in range(497):\n",
        "  preddy[i] = (np.rint(sigmoid(np.dot(wr, np.reshape(np.array(trans[i]), [13, 1]))))).flatten()"
      ]
    },
    {
      "cell_type": "code",
      "execution_count": null,
      "metadata": {
        "id": "HLdDqas0izWW"
      },
      "outputs": [],
      "source": [
        "pred_int = [0] * 497\n",
        "for sd in range(len(preddy)):\n",
        "  pred_int[sd] = int(preddy[sd])"
      ]
    },
    {
      "cell_type": "code",
      "execution_count": null,
      "metadata": {
        "id": "JxZyrPLSjHGY"
      },
      "outputs": [],
      "source": [
        "ls = [i for i in range(1, 498)]\n",
        "pred = pd.DataFrame(pred_int,columns=['Category'])\n",
        "pred['id'] = ls\n",
        "pred.set_index('id', inplace = True)\n",
        "pred.to_csv(f\"okokok2.csv\")"
      ]
    },
    {
      "cell_type": "markdown",
      "metadata": {
        "id": "I914uqg6_eRa"
      },
      "source": [
        "**3.4: SGD**"
      ]
    },
    {
      "cell_type": "code",
      "execution_count": null,
      "metadata": {
        "id": "gVojYd8sV_ez"
      },
      "outputs": [],
      "source": [
        "def cost2(s, reg, w):\n",
        "  w1 = np.array(w).T\n",
        "  y = train_labels\n",
        "  new_y = np.reshape(y, [1, 5000])\n",
        "  s = np.array(s)\n",
        "  s = np.reshape(s, [5000, 1])\n",
        "  diff_s = 1 - s\n",
        "  diff_y = 1 - new_y\n",
        "  return (np.dot((-1 * new_y), np.log(s)) - np.dot(diff_y, np.log(diff_s)) + reg * (np.linalg.norm(w1))**2)"
      ]
    },
    {
      "cell_type": "code",
      "execution_count": null,
      "metadata": {
        "id": "Nv973uIfJx5I"
      },
      "outputs": [],
      "source": [
        "def SGD(w, s, X, y, ep, reg, delta):\n",
        "\n",
        "  cost1 = np.inf\n",
        "  \n",
        "  counter = 0\n",
        "  plot = []\n",
        "  costs = []\n",
        "  \n",
        "  while counter < delta: \n",
        "    for i in range(len(s)):\n",
        "      s[i] = sigmoid((np.dot(np.reshape(np.array(w), [1, 13]), np.reshape(np.array(nt[i]), [13, 1]))))\n",
        "    cost1 = cost2(s, reg, w)\n",
        "    np.random.seed(313)\n",
        "    index = random.randrange(5000)\n",
        "    w = np.reshape(np.array(w), [1, 13])\n",
        "    w = w - (ep * (2 * reg * w - (y[index] - s[index]) * np.array(nt[index])))\n",
        "    costs.append(cost1.flatten())\n",
        "    counter += 1\n",
        "    plot += [counter, cost1]\n",
        "  return costs"
      ]
    },
    {
      "cell_type": "code",
      "execution_count": null,
      "metadata": {
        "id": "y7LuXQ_VK9wU"
      },
      "outputs": [],
      "source": [
        "w = [0] * 13\n",
        "s = [0] * 5000\n",
        "for i in range(len(s)):\n",
        "  s[i] = sigmoid((np.dot(w, np.array(nt[i]))))\n",
        "X = nt\n",
        "y = train_labels\n",
        "ep = .001\n",
        "reg = .01\n",
        "delta = 5000"
      ]
    },
    {
      "cell_type": "code",
      "execution_count": null,
      "metadata": {
        "colab": {
          "base_uri": "https://localhost:8080/",
          "height": 312
        },
        "id": "IExPqBLyLAhZ",
        "outputId": "72524e7f-f52d-4d79-9bbf-b2062734b6cc"
      },
      "outputs": [
        {
          "data": {
            "text/plain": [
              "Text(0, 0.5, 'cost')"
            ]
          },
          "execution_count": 42,
          "metadata": {},
          "output_type": "execute_result"
        },
        {
          "data": {
            "image/png": "[encoded data removed]",
            "text/plain": [
              "<Figure size 432x288 with 1 Axes>"
            ]
          },
          "metadata": {
            "needs_background": "light"
          },
          "output_type": "display_data"
        }
      ],
      "source": [
        "y = SGD(w, s, nt, y, ep, reg, delta)\n",
        "x = [i for i in range(0, delta)]\n",
        "plt.plot(x, y, label = \"validation\")\n",
        "plt.title(\"graph of cost vs num iterations SGD\")\n",
        "plt.xlabel(\"number of iterations\")\n",
        "plt.ylabel(\"cost\")"
      ]
    },
    {
      "cell_type": "markdown",
      "metadata": {
        "id": "0xIQAZiAcPO6"
      },
      "source": [
        "**3.5: Shrinking Step Size**"
      ]
    },
    {
      "cell_type": "code",
      "execution_count": null,
      "metadata": {
        "id": "IGkkGkJMcK5v"
      },
      "outputs": [],
      "source": [
        "def SGD2(w, s, X, y, ep, reg, delta):\n",
        "\n",
        "  cost1 = np.inf\n",
        "  \n",
        "  counter = 0\n",
        "  plot = []\n",
        "  costs = []\n",
        "  \n",
        "  while counter < delta:\n",
        "    ep1 = ep/(counter + 1) \n",
        "    for i in range(len(s)):\n",
        "      s[i] = sigmoid((np.dot(np.reshape(np.array(w), [1, 13]), np.reshape(np.array(nt[i]), [13, 1]))))\n",
        "    cost1 = cost2(s, reg, w)\n",
        "    np.random.seed(303)\n",
        "    index = random.randrange(5000)\n",
        "    w = np.reshape(np.array(w), [1, 13])\n",
        "    w = w - (ep1 * (2 * reg * w - (y[index] - s[index]) * np.array(nt[index])))\n",
        "    costs.append(cost1.flatten())\n",
        "    counter += 1\n",
        "    plot += [counter, cost1]\n",
        "  return costs"
      ]
    },
    {
      "cell_type": "code",
      "execution_count": null,
      "metadata": {
        "id": "scU5nUozc7Vl"
      },
      "outputs": [],
      "source": [
        "w = [0] * 13\n",
        "s = [0] * 5000\n",
        "for i in range(len(s)):\n",
        "  s[i] = sigmoid((np.dot(w, np.array(nt[i]))))\n",
        "X = nt\n",
        "y = train_labels\n",
        "ep = .001\n",
        "reg = .01\n",
        "delta = 5000"
      ]
    },
    {
      "cell_type": "code",
      "execution_count": null,
      "metadata": {
        "colab": {
          "base_uri": "https://localhost:8080/",
          "height": 312
        },
        "id": "mBIDbiFecp5b",
        "outputId": "8e747067-0acd-4277-92f7-c8e053013c8b"
      },
      "outputs": [
        {
          "data": {
            "text/plain": [
              "Text(0, 0.5, 'cost')"
            ]
          },
          "execution_count": 57,
          "metadata": {},
          "output_type": "execute_result"
        },
        {
          "data": {
            "image/png": "[encoded data removed]",
            "text/plain": [
              "<Figure size 432x288 with 1 Axes>"
            ]
          },
          "metadata": {
            "needs_background": "light"
          },
          "output_type": "display_data"
        }
      ],
      "source": [
        "y = SGD2(w, s, nt, y, ep, reg, delta)\n",
        "x = [i for i in range(0, delta)]\n",
        "plt.plot(x, y, label = \"validation\")\n",
        "plt.title(\"graph of cost vs num iterations SGD Shrinking step size\")\n",
        "plt.xlabel(\"number of iterations\")\n",
        "plt.ylabel(\"cost\")"
      ]
    },
    {
      "cell_type": "markdown",
      "metadata": {
        "id": "R27wsOzc8o8m"
      },
      "source": [
        "**5.1: Isocountour Plots**"
      ]
    },
    {
      "cell_type": "code",
      "execution_count": null,
      "metadata": {
        "colab": {
          "base_uri": "https://localhost:8080/",
          "height": 269
        },
        "id": "3IHOMkpoDx40",
        "outputId": "654a9461-2d55-40b7-bba0-eb76c389df4a"
      },
      "outputs": [
        {
          "data": {
            "image/png": "[encoded data removed]",
            "text/plain": [
              "<Figure size 432x288 with 2 Axes>"
            ]
          },
          "metadata": {
            "needs_background": "light"
          },
          "output_type": "display_data"
        }
      ],
      "source": [
        "x, y = np.meshgrid(np.linspace(-5.0, 5.0, 100), np.linspace(-5.0, 5.0, 100))\n",
        "p = 0.5\n",
        "z = (np.abs(x)**p + np.abs(y)**p)**(1/p)\n",
        "fig,ax=plt.subplots(1,1)\n",
        "a = ax.contourf(x, y, z)\n",
        "fig.colorbar(a)\n",
        "plt.show()"
      ]
    },
    {
      "cell_type": "code",
      "execution_count": null,
      "metadata": {
        "colab": {
          "base_uri": "https://localhost:8080/",
          "height": 269
        },
        "id": "bOgbKZM_Oal6",
        "outputId": "a1b73e37-8903-4a93-a0de-930e4f7e534d"
      },
      "outputs": [
        {
          "data": {
            "image/png": "[encoded data removed]",
            "text/plain": [
              "<Figure size 432x288 with 2 Axes>"
            ]
          },
          "metadata": {
            "needs_background": "light"
          },
          "output_type": "display_data"
        }
      ],
      "source": [
        "x, y = np.meshgrid(np.linspace(-5.0, 5.0, 100), np.linspace(-5.0, 5.0, 100))\n",
        "p = 1\n",
        "z = (np.abs(x)**p + np.abs(y)**p)**(1/p)\n",
        "fig,ax=plt.subplots(1,1)\n",
        "a = ax.contourf(x, y, z)\n",
        "fig.colorbar(a)\n",
        "plt.show()"
      ]
    },
    {
      "cell_type": "code",
      "execution_count": null,
      "metadata": {
        "colab": {
          "base_uri": "https://localhost:8080/",
          "height": 269
        },
        "id": "ICEOm9OLOd7a",
        "outputId": "4e28318a-3abe-4c20-fa0b-6009aa2f14db"
      },
      "outputs": [
        {
          "data": {
            "image/png": "[encoded data removed]",
            "text/plain": [
              "<Figure size 432x288 with 2 Axes>"
            ]
          },
          "metadata": {
            "needs_background": "light"
          },
          "output_type": "display_data"
        }
      ],
      "source": [
        "x, y = np.meshgrid(np.linspace(-5.0, 5.0, 100), np.linspace(-5.0, 5.0, 100))\n",
        "p = 2\n",
        "z = (np.abs(x)**p + np.abs(y)**p)**(1/p)\n",
        "fig,ax=plt.subplots(1,1)\n",
        "a = ax.contourf(x, y, z)\n",
        "fig.colorbar(a)\n",
        "plt.show()"
      ]
    }
  ],
  "metadata": {
    "colab": {
      "provenance": []
    },
    "kernelspec": {
      "display_name": "Python 3",
      "name": "python3"
    },
    "language_info": {
      "name": "python"
    }
  },
  "nbformat": 4,
  "nbformat_minor": 0
}
