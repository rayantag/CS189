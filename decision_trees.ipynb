{
  "nbformat": 4,
  "nbformat_minor": 0,
  "metadata": {
    "colab": {
      "provenance": []
    },
    "kernelspec": {
      "name": "python3",
      "display_name": "Python 3"
    },
    "language_info": {
      "name": "python"
    }
  },
  "cells": [
    {
      "cell_type": "code",
      "source": [
        "!unzip hw5_code.zip"
      ],
      "metadata": {
        "id": "5nHQQxqrhaUD"
      },
      "execution_count": null,
      "outputs": []
    },
    {
      "cell_type": "code",
      "source": [
        "import random\n",
        "import pandas as pd"
      ],
      "metadata": {
        "id": "WqhFfX0kAtK7"
      },
      "execution_count": null,
      "outputs": []
    },
    {
      "cell_type": "code",
      "execution_count": null,
      "metadata": {
        "colab": {
          "base_uri": "https://localhost:8080/"
        },
        "id": "LuXX5GL5gnCQ",
        "outputId": "ff23f7e8-c311-4d95-b804-ef646fb41a29"
      },
      "outputs": [
        {
          "output_type": "stream",
          "name": "stdout",
          "text": [
            "\n",
            "\n",
            "Part (b): preprocessing the titanic dataset\n",
            "Features: ['pclass', 'sex', 'age', 'sibsp', 'parch', 'ticket', 'fare', 'cabin', 'embarked', 'male', 'female', 'S', 'C', 'Q']\n",
            "Train/test size: (999, 14) (310, 14)\n",
            "\n",
            "\n",
            "Part 0: constant classifier\n",
            "Accuracy 0.6166166166166166\n",
            "\n",
            "\n",
            "Part (a-b): simplified decision tree\n"
          ]
        },
        {
          "output_type": "stream",
          "name": "stderr",
          "text": [
            "<ipython-input-181-487e8b9a4eef>:224: FutureWarning: Unlike other reduction functions (e.g. `skew`, `kurtosis`), the default behavior of `mode` typically preserves the axis it acts along. In SciPy 1.11.0, this behavior will change: the default value of `keepdims` will become False, the `axis` over which the statistic is taken will be eliminated, and the value None will no longer be accepted. Set `keepdims` to True or False to avoid this warning.\n",
            "  mode = stats.mode(data[((data[:, i] < -1 - eps) +\n",
            "<ipython-input-181-487e8b9a4eef>:118: FutureWarning: Unlike other reduction functions (e.g. `skew`, `kurtosis`), the default behavior of `mode` typically preserves the axis it acts along. In SciPy 1.11.0, this behavior will change: the default value of `keepdims` will become False, the `axis` over which the statistic is taken will be eliminated, and the value None will no longer be accepted. Set `keepdims` to True or False to avoid this warning.\n",
            "  self.pred = stats.mode(y).mode[0]\n"
          ]
        },
        {
          "output_type": "stream",
          "name": "stdout",
          "text": [
            "Predictions [1. 0. 0. 0. 1. 1. 1. 0. 0. 1. 0. 0. 0. 1. 0. 0. 0. 1. 0. 1. 0. 1. 1. 0.\n",
            " 0. 0. 0. 0. 0. 0. 1. 0. 0. 0. 1. 0. 0. 0. 0. 1. 0. 0. 0. 0. 0. 1. 0. 1.\n",
            " 1. 1. 0. 0. 1. 0. 1. 1. 1. 1. 0. 0. 0. 0. 0. 0. 0. 0. 0. 1. 0. 0. 0. 0.\n",
            " 1. 1. 1. 0. 1. 0. 0. 0. 1. 1. 0. 0. 0. 1. 0. 0. 1. 0. 0. 0. 0. 0. 0. 0.\n",
            " 0. 0. 1. 0.]\n",
            "\n",
            "\n",
            "Part (c): sklearn's decision tree\n",
            "Cross validation [0.82       0.83       0.8        0.75       0.75879397]\n"
          ]
        }
      ],
      "source": [
        "# You may want to install \"gprof2dot\"\n",
        "import io\n",
        "from collections import Counter\n",
        "\n",
        "import numpy as np\n",
        "import scipy.io\n",
        "import sklearn.model_selection\n",
        "import sklearn.tree\n",
        "from numpy import genfromtxt\n",
        "from scipy import stats\n",
        "from sklearn.base import BaseEstimator, ClassifierMixin\n",
        "from scipy import stats\n",
        "\n",
        "import pydot\n",
        "\n",
        "eps = 1e-5  # a small number\n",
        "\n",
        "\n",
        "class DecisionTree:\n",
        "    def __init__(self, max_depth=3, feature_labels=None, m=None):\n",
        "        self.max_depth = max_depth\n",
        "        self.features = feature_labels\n",
        "        self.left, self.right = None, None  # for non-leaf nodes\n",
        "        self.split_idx, self.thresh = None, None  # for non-leaf nodes\n",
        "        self.data, self.pred = None, None  # for leaf nodes\n",
        "        self.m = m\n",
        "    \n",
        "    @staticmethod\n",
        "    def information_gain(X, y, thresh):\n",
        "        # EQUIVALENT TO H(S) - H(AFTER)\n",
        "        # TODO: implement information gain \n",
        "        ### CHANGE H_AFTER ### \n",
        "        left_labels = y[np.where(X >= thresh)]\n",
        "        right_labels = y[np.where(X < thresh)]\n",
        "        before = DecisionTree.gini_impurity(X, y, thresh)\n",
        "\n",
        "        left = DecisionTree.gini_impurity(X, left_labels, thresh)\n",
        "        right = DecisionTree.gini_impurity(X, right_labels, thresh)\n",
        "\n",
        "        after = (len(left_labels)*left + len(right_labels)*right)/len(y)\n",
        "        return before - after\n",
        "        #return np.random.rand()\n",
        "\n",
        "    @staticmethod\n",
        "    def gini_impurity(X, y, thresh):\n",
        "        total = len(y)\n",
        "        count = 0\n",
        "        entropy = 0\n",
        "        for surv in np.unique(y):\n",
        "          for val in y:\n",
        "            if surv == val:\n",
        "              count += 1\n",
        "          p = count/total\n",
        "          entropy += (-1 * p * np.log2(p))\n",
        "          count = 0\n",
        "        #print(entropy)  \n",
        "        return entropy\n",
        "        # TODO: implement gini impurity function\n",
        "        # pass\n",
        "\n",
        "    def split(self, X, y, idx, thresh):\n",
        "        X0, idx0, X1, idx1 = self.split_test(X, idx=idx, thresh=thresh)\n",
        "        y0, y1 = y[idx0], y[idx1]\n",
        "        return X0, y0, X1, y1\n",
        "\n",
        "    def split_test(self, X, idx, thresh):\n",
        "        idx0 = np.where(X[:, idx] < thresh)[0]\n",
        "        idx1 = np.where(X[:, idx] >= thresh)[0]\n",
        "        X0, X1 = X[idx0, :], X[idx1, :]\n",
        "        return X0, idx0, X1, idx1\n",
        "\n",
        "    def fit(self, X, y):\n",
        "        if self.max_depth > 0:\n",
        "            # compute entropy gain for all single-dimension splits,\n",
        "            # thresholding with a linear interpolation of 10 values\n",
        "            gains = []\n",
        "            # The following logic prevents thresholding on exactly the minimum\n",
        "            # or maximum values, which may not lead to any meaningful node\n",
        "            # splits.\n",
        "            # X = pd.DataFrame(X)\n",
        "            old_X = X\n",
        "            if self.m:\n",
        "              # arr = [random.choice(range(len(x_df))) for i in range(self.n)]\n",
        "              # new_points = x_df.iloc[arr]\n",
        "\n",
        "              arr = [random.choice(range(len(self.features))) for i in range(self.m)]\n",
        "              # m_chosen = self.features[arr] # fix?\n",
        "              \n",
        "              for a in arr:\n",
        "                np.append(X, old_X[a])\n",
        "              #m_chosen = [self.features[i] for i in arr]\n",
        "              # m_chosen = [True  if i in arr else False for i in range(len(self.features))]\n",
        "              #X = old_X[m_chosen]\n",
        "            thresh = np.array([\n",
        "                np.linspace(np.min(X[:, i]) + eps, np.max(X[:, i]) - eps, num=10)\n",
        "                for i in range(X.shape[1])\n",
        "            ])\n",
        "            for i in range(X.shape[1]):\n",
        "                gains.append([self.information_gain(X[:, i], y, t) for t in thresh[i, :]])\n",
        "\n",
        "            gains = np.nan_to_num(np.array(gains))\n",
        "            self.split_idx, thresh_idx = np.unravel_index(np.argmax(gains), gains.shape)\n",
        "            self.thresh = thresh[self.split_idx, thresh_idx]\n",
        "            X0, y0, X1, y1 = self.split(old_X, y, idx=self.split_idx, thresh=self.thresh)\n",
        "            if X0.size > 0 and X1.size > 0:\n",
        "                self.left = DecisionTree(\n",
        "                    max_depth=self.max_depth - 1, feature_labels=self.features)\n",
        "                self.left.fit(X0, y0)\n",
        "                self.right = DecisionTree(\n",
        "                    max_depth=self.max_depth - 1, feature_labels=self.features)\n",
        "                self.right.fit(X1, y1)\n",
        "            else:\n",
        "                self.max_depth = 0\n",
        "                self.data, self.labels = old_X, y\n",
        "                self.pred = stats.mode(y).mode[0]\n",
        "        else:\n",
        "            self.data, self.labels = X, y\n",
        "            self.pred = stats.mode(y).mode[0]\n",
        "        return self\n",
        "\n",
        "    def predict(self, X):\n",
        "        if self.max_depth == 0:\n",
        "            return self.pred * np.ones(X.shape[0])\n",
        "        else:\n",
        "            X0, idx0, X1, idx1 = self.split_test(X, idx=self.split_idx, thresh=self.thresh)\n",
        "            yhat = np.zeros(X.shape[0])\n",
        "            yhat[idx0] = self.left.predict(X0)\n",
        "            yhat[idx1] = self.right.predict(X1)\n",
        "            return yhat\n",
        "\n",
        "    def __repr__(self):\n",
        "        if self.max_depth == 0:\n",
        "            return \"%s (%s)\" % (self.pred, self.labels.size)\n",
        "        else:\n",
        "            return \"[%s < %s: %s | %s]\" % (self.features[self.split_idx],\n",
        "                                           self.thresh, self.left.__repr__(),\n",
        "                                           self.right.__repr__())\n",
        "\n",
        "\n",
        "class BaggedTrees(BaseEstimator, ClassifierMixin):\n",
        "    def __init__(self, params=None, n=200):\n",
        "        if params is None:\n",
        "            params = {}\n",
        "        self.params = params\n",
        "        self.n = n\n",
        "        self.decision_trees = [DecisionTree(max_depth = self.params[\"max_depth\"], feature_labels = None) for i in range(self.n)]\n",
        "        #self.decision_trees = [\n",
        "        #    sklearn.tree.DecisionTreeClassifier(random_state=i, **self.params)\n",
        "        #    for i in range(self.n)\n",
        "        #]\n",
        "\n",
        "    def fit(self, X, y):\n",
        "        # TODO: implement function\n",
        "        # get random subsamples of data (in this case features) and predict on those with T trees\n",
        "        #random.choices\n",
        "\n",
        "        x_df = pd.DataFrame(X)\n",
        "        x_df['y'] = y\n",
        "        for tree in self.decision_trees:\n",
        "          arr = [random.choice(range(len(x_df))) for i in range(self.n)]\n",
        "          new_points = x_df.iloc[arr]\n",
        "          new_X = new_points.drop('y', axis = 1).to_numpy()\n",
        "          tree.fit(new_X, new_points[\"y\"].to_numpy())\n",
        "\n",
        "\n",
        "    def predict(self, X):\n",
        "        # TODO: implement function\n",
        "        pred = []\n",
        "        for tree in self.decision_trees:\n",
        "          pred += [tree.predict(X)]\n",
        "        return stats.mode(pred).mode[0]\n",
        "\n",
        "\n",
        "class RandomForest(BaggedTrees):\n",
        "    def __init__(self, params=None, n=200, m=1, feature_labels=None):\n",
        "        if params is None:\n",
        "            params = {}\n",
        "        self.params = params\n",
        "        self.n = n\n",
        "        self.m = m\n",
        "        self.features = feature_labels\n",
        "        self.decision_trees = [DecisionTree(feature_labels = self.features, max_depth = self.params[\"max_depth\"], m=self.m) for i in range(self.n)]\n",
        "\n",
        "\n",
        "class BoostedRandomForest(RandomForest):\n",
        "    def fit(self, X, y):\n",
        "        self.w = np.ones(X.shape[0]) / X.shape[0]  # Weights on data\n",
        "        self.a = np.zeros(self.n)  # Weights on decision trees\n",
        "        # TODO: implement function\n",
        "        return self\n",
        "\n",
        "    def predict(self, X):\n",
        "        # TODO: implement function\n",
        "        pass\n",
        "\n",
        "\n",
        "def preprocess(data, fill_mode=True, min_freq=10, onehot_cols=[]):\n",
        "    # fill_mode = False\n",
        "\n",
        "    # Temporarily assign -1 to missing data\n",
        "    data[data == ''] = '-1'\n",
        "\n",
        "    # Hash the columns (used for handling strings)\n",
        "    onehot_encoding = []\n",
        "    onehot_features = []\n",
        "    for col in onehot_cols:\n",
        "        counter = Counter(data[:, col])\n",
        "        for term in counter.most_common():\n",
        "            if term[0] == '-1':\n",
        "                continue\n",
        "            if term[-1] <= min_freq:\n",
        "                break\n",
        "            onehot_features.append(term[0])\n",
        "            onehot_encoding.append((data[:, col] == term[0]).astype(float))\n",
        "        data[:, col] = '0'\n",
        "    onehot_encoding = np.array(onehot_encoding).T\n",
        "    data = np.hstack([np.array(data, dtype=float), np.array(onehot_encoding)])\n",
        "\n",
        "    # Replace missing data with the mode value. We use the mode instead of\n",
        "    # the mean or median because this makes more sense for categorical\n",
        "    # features such as gender or cabin type, which are not ordered.\n",
        "    if fill_mode:\n",
        "        for i in range(data.shape[-1]):\n",
        "            mode = stats.mode(data[((data[:, i] < -1 - eps) +\n",
        "                                    (data[:, i] > -1 + eps))][:, i]).mode[0]\n",
        "            data[(data[:, i] > -1 - eps) * (data[:, i] < -1 + eps)][:, i] = mode\n",
        "\n",
        "    return data, onehot_features\n",
        "\n",
        "\n",
        "def evaluate(clf):\n",
        "    print(\"Cross validation\", sklearn.model_selection.cross_val_score(clf, X, y))\n",
        "    if hasattr(clf, \"decision_trees\"):\n",
        "        counter = Counter([t.tree_.feature[0] for t in clf.decision_trees])\n",
        "        first_splits = [(features[term[0]], term[1]) for term in counter.most_common()]\n",
        "        print(\"First splits\", first_splits)\n",
        "\n",
        "\n",
        "if __name__ == \"__main__\":\n",
        "    dataset = \"titanic\"\n",
        "    #dataset = \"spam\"\n",
        "    params = {\n",
        "        \"max_depth\": 3,\n",
        "        # \"random_state\": 6,\n",
        "        \"min_samples_leaf\": 10,\n",
        "    }\n",
        "    N = 100\n",
        "\n",
        "    if dataset == \"titanic\":\n",
        "        # Load titanic data\n",
        "        path_train = 'hw5_code/dataset/titanic/titanic_training.csv'\n",
        "        data = genfromtxt(path_train, delimiter=',', dtype=None, encoding=None)\n",
        "        path_test = 'hw5_code/dataset/titanic/titanic_test_data.csv'\n",
        "        test_data = genfromtxt(path_test, delimiter=',', dtype=None, encoding=None)\n",
        "        y = data[1:, -1]  # label = survived\n",
        "        class_names = [\"Died\", \"Survived\"]\n",
        "        labeled_idx = np.where(y != '')[0]\n",
        "\n",
        "        y = np.array(y[labeled_idx])\n",
        "        y = y.astype(float).astype(int)\n",
        "\n",
        "\n",
        "        print(\"\\n\\nPart (b): preprocessing the titanic dataset\")\n",
        "        X, onehot_features = preprocess(data[1:, :-1], onehot_cols=[1, 5, 7, 8])\n",
        "        X = X[labeled_idx, :]\n",
        "        Z, _ = preprocess(test_data[1:, :], onehot_cols=[1, 5, 7, 8])\n",
        "        assert X.shape[1] == Z.shape[1]\n",
        "        features = list(data[0, :-1]) + onehot_features\n",
        "\n",
        "    elif dataset == \"spam\":\n",
        "        features = [\n",
        "            \"pain\", \"private\", \"bank\", \"money\", \"drug\", \"spam\", \"prescription\", \"creative\",\n",
        "            \"height\", \"featured\", \"differ\", \"width\", \"other\", \"energy\", \"business\", \"message\",\n",
        "            \"volumes\", \"revision\", \"path\", \"meter\", \"memo\", \"planning\", \"pleased\", \"record\", \"out\",\n",
        "            \"semicolon\", \"dollar\", \"sharp\", \"exclamation\", \"parenthesis\", \"square_bracket\",\n",
        "            \"ampersand\"\n",
        "        ]\n",
        "        assert len(features) == 32\n",
        "\n",
        "        # Load spam data\n",
        "        path_train = 'hw5_code/dataset/spam/spam_data.mat'\n",
        "        data = scipy.io.loadmat(path_train)\n",
        "        X = data['training_data']\n",
        "        y = np.squeeze(data['training_labels'])\n",
        "        Z = data['test_data']\n",
        "        class_names = [\"Ham\", \"Spam\"]\n",
        "\n",
        "    else:\n",
        "        raise NotImplementedError(\"Dataset %s not handled\" % dataset)\n",
        "\n",
        "    print(\"Features:\", features)\n",
        "    print(\"Train/test size:\", X.shape, Z.shape)\n",
        "\n",
        "    print(\"\\n\\nPart 0: constant classifier\")\n",
        "    print(\"Accuracy\", 1 - np.sum(y) / y.size)\n",
        "\n",
        "    # Basic decision tree\n",
        "    print(\"\\n\\nPart (a-b): simplified decision tree\")\n",
        "    dt = DecisionTree(max_depth=3, feature_labels=features)\n",
        "    dt.fit(X, y)\n",
        "    print(\"Predictions\", dt.predict(Z)[:100])\n",
        "\n",
        "    print(\"\\n\\nPart (c): sklearn's decision tree\")\n",
        "    clf = sklearn.tree.DecisionTreeClassifier(random_state=0, **params)\n",
        "    clf.fit(X, y)\n",
        "    evaluate(clf)\n",
        "    out = io.StringIO()\n",
        "\n",
        "    # You may want to install \"gprof2dot\"\n",
        "    sklearn.tree.export_graphviz(\n",
        "        clf, out_file=out, feature_names=features, class_names=class_names)\n",
        "    graph = pydot.graph_from_dot_data(out.getvalue())\n",
        "    pydot.graph_from_dot_data(out.getvalue())[0].write_pdf(\"%s-tree.pdf\" % dataset)\n",
        "\n",
        "    # TODO: implement and evaluate!\n",
        "\n",
        "    dt = DecisionTree(max_depth = 1, feature_labels = features)\n",
        "    bg = BaggedTrees(params = params, n=20)\n",
        "    rf = RandomForest(params= params, m=20, n=30, feature_labels=features)"
      ]
    },
    {
      "cell_type": "code",
      "source": [
        "train = pd.DataFrame(X)\n",
        "train[\"y\"] = y\n",
        "train = train.sample(frac=1)\n",
        "val = train[:int(len(train)*0.25)]\n",
        "train = train[int(len(train)*0.25):]"
      ],
      "metadata": {
        "id": "rE0XLYMwgFcZ"
      },
      "execution_count": null,
      "outputs": []
    },
    {
      "cell_type": "code",
      "source": [
        "bg.fit(train.drop(\"y\", axis = 1), train[\"y\"])"
      ],
      "metadata": {
        "id": "jjosFW45jzec",
        "colab": {
          "base_uri": "https://localhost:8080/"
        },
        "outputId": "a461162b-4257-4f78-be9d-6574295739d6"
      },
      "execution_count": null,
      "outputs": [
        {
          "output_type": "stream",
          "name": "stderr",
          "text": [
            "<ipython-input-181-487e8b9a4eef>:118: FutureWarning: Unlike other reduction functions (e.g. `skew`, `kurtosis`), the default behavior of `mode` typically preserves the axis it acts along. In SciPy 1.11.0, this behavior will change: the default value of `keepdims` will become False, the `axis` over which the statistic is taken will be eliminated, and the value None will no longer be accepted. Set `keepdims` to True or False to avoid this warning.\n",
            "  self.pred = stats.mode(y).mode[0]\n"
          ]
        }
      ]
    },
    {
      "cell_type": "code",
      "source": [
        "rf.fit(train.drop(\"y\", axis = 1), train[\"y\"])"
      ],
      "metadata": {
        "id": "3Xq5jg1NkK7M"
      },
      "execution_count": null,
      "outputs": []
    },
    {
      "cell_type": "code",
      "source": [
        "pred_train = bg.predict(train.to_numpy())\n",
        "pred_val = bg.predict(val.to_numpy())"
      ],
      "metadata": {
        "colab": {
          "base_uri": "https://localhost:8080/"
        },
        "id": "q0HDEIn_oxe8",
        "outputId": "84a064b6-fdbb-4046-ea84-c58a0775e264"
      },
      "execution_count": null,
      "outputs": [
        {
          "output_type": "stream",
          "name": "stderr",
          "text": [
            "<ipython-input-149-f5afdb118483>:171: FutureWarning: Unlike other reduction functions (e.g. `skew`, `kurtosis`), the default behavior of `mode` typically preserves the axis it acts along. In SciPy 1.11.0, this behavior will change: the default value of `keepdims` will become False, the `axis` over which the statistic is taken will be eliminated, and the value None will no longer be accepted. Set `keepdims` to True or False to avoid this warning.\n",
            "  return stats.mode(pred).mode[0]\n"
          ]
        }
      ]
    },
    {
      "cell_type": "code",
      "source": [
        "train_labs = pd.Series.to_numpy(train['y'])\n",
        "val_labs = pd.Series.to_numpy(val['y'])"
      ],
      "metadata": {
        "id": "dP8txhoHIiD2"
      },
      "execution_count": null,
      "outputs": []
    },
    {
      "cell_type": "code",
      "source": [
        "# TITANIC BAGGED TRAINING ACCURACY\n",
        "counter = 0\n",
        "for i in range(len(train_labs)):\n",
        "  if train_labs[i] == pred_train[i]:\n",
        "    counter += 1\n",
        "print(counter / len(train_labs))"
      ],
      "metadata": {
        "colab": {
          "base_uri": "https://localhost:8080/"
        },
        "id": "Ad0oSVRTIwfA",
        "outputId": "d85369e8-e34e-4d69-fb0c-7a63e1988576"
      },
      "execution_count": null,
      "outputs": [
        {
          "output_type": "stream",
          "name": "stdout",
          "text": [
            "0.7973333333333333\n"
          ]
        }
      ]
    },
    {
      "cell_type": "code",
      "source": [
        "# TITANIC BAGGED VALIDATION ACCURACY\n",
        "counter = 0\n",
        "for i in range(len(val_labs)):\n",
        "  if val_labs[i] == pred_val[i]:\n",
        "    counter += 1\n",
        "print(counter / len(val_labs))"
      ],
      "metadata": {
        "colab": {
          "base_uri": "https://localhost:8080/"
        },
        "id": "M9jBcSrMJYNO",
        "outputId": "bf876afb-9473-448f-c0fe-09e288f955db"
      },
      "execution_count": null,
      "outputs": [
        {
          "output_type": "stream",
          "name": "stdout",
          "text": [
            "0.8433734939759037\n"
          ]
        }
      ]
    },
    {
      "cell_type": "code",
      "source": [
        "pred_train = rf.predict(train.to_numpy())\n",
        "pred_val = rf.predict(val.to_numpy())"
      ],
      "metadata": {
        "colab": {
          "base_uri": "https://localhost:8080/"
        },
        "id": "y4s6gW69KluA",
        "outputId": "eba2057f-899e-4d48-9a8b-569d12b75c37"
      },
      "execution_count": null,
      "outputs": [
        {
          "output_type": "stream",
          "name": "stderr",
          "text": [
            "<ipython-input-94-ffa8dd338d7d>:171: FutureWarning: Unlike other reduction functions (e.g. `skew`, `kurtosis`), the default behavior of `mode` typically preserves the axis it acts along. In SciPy 1.11.0, this behavior will change: the default value of `keepdims` will become False, the `axis` over which the statistic is taken will be eliminated, and the value None will no longer be accepted. Set `keepdims` to True or False to avoid this warning.\n",
            "  return stats.mode(pred).mode[0]\n"
          ]
        }
      ]
    },
    {
      "cell_type": "code",
      "source": [
        "# TITANIC RANDOM FOREST TRAINING ACCURACY\n",
        "counter = 0\n",
        "for i in range(len(train_labs)):\n",
        "  if train_labs[i] == pred_train[i]:\n",
        "    counter += 1\n",
        "print(counter / len(train_labs))"
      ],
      "metadata": {
        "colab": {
          "base_uri": "https://localhost:8080/"
        },
        "id": "ErAZ4fuAKrJl",
        "outputId": "40278e28-0212-4bac-8870-10b8cd8ab5d9"
      },
      "execution_count": null,
      "outputs": [
        {
          "output_type": "stream",
          "name": "stdout",
          "text": [
            "0.7866666666666666\n"
          ]
        }
      ]
    },
    {
      "cell_type": "code",
      "source": [
        "# TITANIC RANDOM FOREST VALIDATION ACCURACY\n",
        "counter = 0\n",
        "for i in range(len(val_labs)):\n",
        "  if val_labs[i] == pred_val[i]:\n",
        "    counter += 1\n",
        "print(counter / len(val_labs))"
      ],
      "metadata": {
        "colab": {
          "base_uri": "https://localhost:8080/"
        },
        "id": "AKCuvYO3Kyhe",
        "outputId": "2f87469b-5cd6-4449-937a-8ba5ea4e439b"
      },
      "execution_count": null,
      "outputs": [
        {
          "output_type": "stream",
          "name": "stdout",
          "text": [
            "0.7911646586345381\n"
          ]
        }
      ]
    },
    {
      "cell_type": "code",
      "source": [
        "train = pd.DataFrame(X)\n",
        "train[\"y\"] = y\n",
        "train = train.sample(frac=1)\n",
        "val = train[:int(len(train)*0.25)]\n",
        "train = train[int(len(train)*0.25):]"
      ],
      "metadata": {
        "id": "P_2efBe7LHeo"
      },
      "execution_count": null,
      "outputs": []
    },
    {
      "cell_type": "code",
      "source": [
        "bg.fit(train.drop(\"y\", axis = 1), train[\"y\"])\n",
        "rf.fit(train.drop(\"y\", axis = 1), train[\"y\"])"
      ],
      "metadata": {
        "id": "cKe-zw78LIVQ"
      },
      "execution_count": null,
      "outputs": []
    },
    {
      "cell_type": "code",
      "source": [
        "pred_train = bg.predict(train.to_numpy())\n",
        "pred_val = bg.predict(val.to_numpy())"
      ],
      "metadata": {
        "colab": {
          "base_uri": "https://localhost:8080/"
        },
        "id": "6JpcPqoWLX6u",
        "outputId": "e37e348d-c374-4f2b-daf1-d663d5b1175e"
      },
      "execution_count": null,
      "outputs": [
        {
          "output_type": "stream",
          "name": "stderr",
          "text": [
            "<ipython-input-32-470662c6d67a>:171: FutureWarning: Unlike other reduction functions (e.g. `skew`, `kurtosis`), the default behavior of `mode` typically preserves the axis it acts along. In SciPy 1.11.0, this behavior will change: the default value of `keepdims` will become False, the `axis` over which the statistic is taken will be eliminated, and the value None will no longer be accepted. Set `keepdims` to True or False to avoid this warning.\n",
            "  return stats.mode(pred).mode[0]\n"
          ]
        }
      ]
    },
    {
      "cell_type": "code",
      "source": [
        "train_labs = pd.Series.to_numpy(train['y'])\n",
        "val_labs = pd.Series.to_numpy(val['y'])"
      ],
      "metadata": {
        "id": "C33ADycmLZLK"
      },
      "execution_count": null,
      "outputs": []
    },
    {
      "cell_type": "code",
      "source": [
        "# SPAM BAGGED TRAINING ACCURACY\n",
        "counter = 0\n",
        "for i in range(len(train_labs)):\n",
        "  if train_labs[i] == pred_train[i]:\n",
        "    counter += 1\n",
        "print(counter / len(train_labs))\n",
        "\n",
        "# SPAM BAGGED VALIDATION ACCURACY\n",
        "counter = 0\n",
        "for i in range(len(val_labs)):\n",
        "  if val_labs[i] == pred_val[i]:\n",
        "    counter += 1\n",
        "print(counter / len(val_labs))"
      ],
      "metadata": {
        "colab": {
          "base_uri": "https://localhost:8080/"
        },
        "id": "hDkjCbDLLcFo",
        "outputId": "d36182d2-e3e8-424e-ce96-1398989891ca"
      },
      "execution_count": null,
      "outputs": [
        {
          "output_type": "stream",
          "name": "stdout",
          "text": [
            "0.797979797979798\n",
            "0.7962121212121213\n"
          ]
        }
      ]
    },
    {
      "cell_type": "code",
      "source": [
        "pred_train = rf.predict(train.to_numpy())\n",
        "pred_val = rf.predict(val.to_numpy())"
      ],
      "metadata": {
        "colab": {
          "base_uri": "https://localhost:8080/"
        },
        "id": "9uEJtiiQLnNE",
        "outputId": "99731737-55f7-40d8-dd9f-e7e733701345"
      },
      "execution_count": null,
      "outputs": [
        {
          "output_type": "stream",
          "name": "stderr",
          "text": [
            "<ipython-input-32-470662c6d67a>:171: FutureWarning: Unlike other reduction functions (e.g. `skew`, `kurtosis`), the default behavior of `mode` typically preserves the axis it acts along. In SciPy 1.11.0, this behavior will change: the default value of `keepdims` will become False, the `axis` over which the statistic is taken will be eliminated, and the value None will no longer be accepted. Set `keepdims` to True or False to avoid this warning.\n",
            "  return stats.mode(pred).mode[0]\n"
          ]
        }
      ]
    },
    {
      "cell_type": "code",
      "source": [
        "# SPAM RANDOM FOREST TRAINING ACCURACY\n",
        "counter = 0\n",
        "for i in range(len(train_labs)):\n",
        "  if train_labs[i] == pred_train[i]:\n",
        "    counter += 1\n",
        "print(counter / len(train_labs))\n",
        "\n",
        "# SPAM RANDOM FOREST VALIDATION ACCURACY\n",
        "counter = 0\n",
        "for i in range(len(val_labs)):\n",
        "  if val_labs[i] == pred_val[i]:\n",
        "    counter += 1\n",
        "print(counter / len(val_labs))"
      ],
      "metadata": {
        "colab": {
          "base_uri": "https://localhost:8080/"
        },
        "id": "PzE6-39-LsEg",
        "outputId": "b9c78ba5-e69e-4f5d-da90-012fcdec80fc"
      },
      "execution_count": null,
      "outputs": [
        {
          "output_type": "stream",
          "name": "stdout",
          "text": [
            "0.8002525252525252\n",
            "0.8053030303030303\n"
          ]
        }
      ]
    },
    {
      "cell_type": "code",
      "source": [
        "test = data['test_data']"
      ],
      "metadata": {
        "id": "btkkrKd9MTv5"
      },
      "execution_count": null,
      "outputs": []
    },
    {
      "cell_type": "code",
      "source": [
        "spam_preds = rf.predict(test)"
      ],
      "metadata": {
        "colab": {
          "base_uri": "https://localhost:8080/"
        },
        "id": "mlUduMUsNgEA",
        "outputId": "96a00362-8d54-4791-ff3f-863819e6768a"
      },
      "execution_count": null,
      "outputs": [
        {
          "output_type": "stream",
          "name": "stderr",
          "text": [
            "<ipython-input-32-470662c6d67a>:171: FutureWarning: Unlike other reduction functions (e.g. `skew`, `kurtosis`), the default behavior of `mode` typically preserves the axis it acts along. In SciPy 1.11.0, this behavior will change: the default value of `keepdims` will become False, the `axis` over which the statistic is taken will be eliminated, and the value None will no longer be accepted. Set `keepdims` to True or False to avoid this warning.\n",
            "  return stats.mode(pred).mode[0]\n"
          ]
        }
      ]
    },
    {
      "cell_type": "code",
      "source": [
        "print(int(spam_preds[4]))"
      ],
      "metadata": {
        "colab": {
          "base_uri": "https://localhost:8080/"
        },
        "id": "R2kACF8hOr5I",
        "outputId": "6fb11ae6-5bb1-4d22-8b21-27bc79bc7f91"
      },
      "execution_count": null,
      "outputs": [
        {
          "output_type": "stream",
          "name": "stdout",
          "text": [
            "1\n"
          ]
        }
      ]
    },
    {
      "cell_type": "code",
      "source": [
        "spam_ints = [0] * len(spam_preds)\n",
        "for i in range(len(spam_preds)):\n",
        "  spam_ints[i] = int(spam_preds[i])"
      ],
      "metadata": {
        "id": "IQQ4NWY9NuCi"
      },
      "execution_count": null,
      "outputs": []
    },
    {
      "cell_type": "code",
      "source": [
        "spam_ints"
      ],
      "metadata": {
        "id": "6sOWH4X0OhIU"
      },
      "execution_count": null,
      "outputs": []
    },
    {
      "cell_type": "code",
      "source": [
        "ind_spam = [i + 1 for i in range(len(spam_ints))]\n",
        "df_spam = pd.DataFrame({\"Id\": ind_spam, \"Category\": spam_ints})\n",
        "df_spam"
      ],
      "metadata": {
        "colab": {
          "base_uri": "https://localhost:8080/",
          "height": 419
        },
        "id": "kk1eVjFsPL2t",
        "outputId": "3f94dcfe-8ff4-403e-9938-2c12a9b9079a"
      },
      "execution_count": null,
      "outputs": [
        {
          "output_type": "execute_result",
          "data": {
            "text/plain": [
              "        Id  Category\n",
              "0        1         0\n",
              "1        2         0\n",
              "2        3         0\n",
              "3        4         0\n",
              "4        5         1\n",
              "...    ...       ...\n",
              "5744  5745         0\n",
              "5745  5746         0\n",
              "5746  5747         0\n",
              "5747  5748         0\n",
              "5748  5749         1\n",
              "\n",
              "[5749 rows x 2 columns]"
            ],
            "text/html": [
              "\n",
              "  <div id=\"df-d361287b-67a1-4497-842c-aa6f03b501ee\">\n",
              "    <div class=\"colab-df-container\">\n",
              "      <div>\n",
              "<style scoped>\n",
              "    .dataframe tbody tr th:only-of-type {\n",
              "        vertical-align: middle;\n",
              "    }\n",
              "\n",
              "    .dataframe tbody tr th {\n",
              "        vertical-align: top;\n",
              "    }\n",
              "\n",
              "    .dataframe thead th {\n",
              "        text-align: right;\n",
              "    }\n",
              "</style>\n",
              "<table border=\"1\" class=\"dataframe\">\n",
              "  <thead>\n",
              "    <tr style=\"text-align: right;\">\n",
              "      <th></th>\n",
              "      <th>Id</th>\n",
              "      <th>Category</th>\n",
              "    </tr>\n",
              "  </thead>\n",
              "  <tbody>\n",
              "    <tr>\n",
              "      <th>0</th>\n",
              "      <td>1</td>\n",
              "      <td>0</td>\n",
              "    </tr>\n",
              "    <tr>\n",
              "      <th>1</th>\n",
              "      <td>2</td>\n",
              "      <td>0</td>\n",
              "    </tr>\n",
              "    <tr>\n",
              "      <th>2</th>\n",
              "      <td>3</td>\n",
              "      <td>0</td>\n",
              "    </tr>\n",
              "    <tr>\n",
              "      <th>3</th>\n",
              "      <td>4</td>\n",
              "      <td>0</td>\n",
              "    </tr>\n",
              "    <tr>\n",
              "      <th>4</th>\n",
              "      <td>5</td>\n",
              "      <td>1</td>\n",
              "    </tr>\n",
              "    <tr>\n",
              "      <th>...</th>\n",
              "      <td>...</td>\n",
              "      <td>...</td>\n",
              "    </tr>\n",
              "    <tr>\n",
              "      <th>5744</th>\n",
              "      <td>5745</td>\n",
              "      <td>0</td>\n",
              "    </tr>\n",
              "    <tr>\n",
              "      <th>5745</th>\n",
              "      <td>5746</td>\n",
              "      <td>0</td>\n",
              "    </tr>\n",
              "    <tr>\n",
              "      <th>5746</th>\n",
              "      <td>5747</td>\n",
              "      <td>0</td>\n",
              "    </tr>\n",
              "    <tr>\n",
              "      <th>5747</th>\n",
              "      <td>5748</td>\n",
              "      <td>0</td>\n",
              "    </tr>\n",
              "    <tr>\n",
              "      <th>5748</th>\n",
              "      <td>5749</td>\n",
              "      <td>1</td>\n",
              "    </tr>\n",
              "  </tbody>\n",
              "</table>\n",
              "<p>5749 rows × 2 columns</p>\n",
              "</div>\n",
              "      <button class=\"colab-df-convert\" onclick=\"convertToInteractive('df-d361287b-67a1-4497-842c-aa6f03b501ee')\"\n",
              "              title=\"Convert this dataframe to an interactive table.\"\n",
              "              style=\"display:none;\">\n",
              "        \n",
              "  <svg xmlns=\"http://www.w3.org/2000/svg\" height=\"24px\"viewBox=\"0 0 24 24\"\n",
              "       width=\"24px\">\n",
              "    <path d=\"M0 0h24v24H0V0z\" fill=\"none\"/>\n",
              "    <path d=\"M18.56 5.44l.94 2.06.94-2.06 2.06-.94-2.06-.94-.94-2.06-.94 2.06-2.06.94zm-11 1L8.5 8.5l.94-2.06 2.06-.94-2.06-.94L8.5 2.5l-.94 2.06-2.06.94zm10 10l.94 2.06.94-2.06 2.06-.94-2.06-.94-.94-2.06-.94 2.06-2.06.94z\"/><path d=\"M17.41 7.96l-1.37-1.37c-.4-.4-.92-.59-1.43-.59-.52 0-1.04.2-1.43.59L10.3 9.45l-7.72 7.72c-.78.78-.78 2.05 0 2.83L4 21.41c.39.39.9.59 1.41.59.51 0 1.02-.2 1.41-.59l7.78-7.78 2.81-2.81c.8-.78.8-2.07 0-2.86zM5.41 20L4 18.59l7.72-7.72 1.47 1.35L5.41 20z\"/>\n",
              "  </svg>\n",
              "      </button>\n",
              "      \n",
              "  <style>\n",
              "    .colab-df-container {\n",
              "      display:flex;\n",
              "      flex-wrap:wrap;\n",
              "      gap: 12px;\n",
              "    }\n",
              "\n",
              "    .colab-df-convert {\n",
              "      background-color: #E8F0FE;\n",
              "      border: none;\n",
              "      border-radius: 50%;\n",
              "      cursor: pointer;\n",
              "      display: none;\n",
              "      fill: #1967D2;\n",
              "      height: 32px;\n",
              "      padding: 0 0 0 0;\n",
              "      width: 32px;\n",
              "    }\n",
              "\n",
              "    .colab-df-convert:hover {\n",
              "      background-color: #E2EBFA;\n",
              "      box-shadow: 0px 1px 2px rgba(60, 64, 67, 0.3), 0px 1px 3px 1px rgba(60, 64, 67, 0.15);\n",
              "      fill: #174EA6;\n",
              "    }\n",
              "\n",
              "    [theme=dark] .colab-df-convert {\n",
              "      background-color: #3B4455;\n",
              "      fill: #D2E3FC;\n",
              "    }\n",
              "\n",
              "    [theme=dark] .colab-df-convert:hover {\n",
              "      background-color: #434B5C;\n",
              "      box-shadow: 0px 1px 3px 1px rgba(0, 0, 0, 0.15);\n",
              "      filter: drop-shadow(0px 1px 2px rgba(0, 0, 0, 0.3));\n",
              "      fill: #FFFFFF;\n",
              "    }\n",
              "  </style>\n",
              "\n",
              "      <script>\n",
              "        const buttonEl =\n",
              "          document.querySelector('#df-d361287b-67a1-4497-842c-aa6f03b501ee button.colab-df-convert');\n",
              "        buttonEl.style.display =\n",
              "          google.colab.kernel.accessAllowed ? 'block' : 'none';\n",
              "\n",
              "        async function convertToInteractive(key) {\n",
              "          const element = document.querySelector('#df-d361287b-67a1-4497-842c-aa6f03b501ee');\n",
              "          const dataTable =\n",
              "            await google.colab.kernel.invokeFunction('convertToInteractive',\n",
              "                                                     [key], {});\n",
              "          if (!dataTable) return;\n",
              "\n",
              "          const docLinkHtml = 'Like what you see? Visit the ' +\n",
              "            '<a target=\"_blank\" href=https://colab.research.google.com/notebooks/data_table.ipynb>data table notebook</a>'\n",
              "            + ' to learn more about interactive tables.';\n",
              "          element.innerHTML = '';\n",
              "          dataTable['output_type'] = 'display_data';\n",
              "          await google.colab.output.renderOutput(dataTable, element);\n",
              "          const docLink = document.createElement('div');\n",
              "          docLink.innerHTML = docLinkHtml;\n",
              "          element.appendChild(docLink);\n",
              "        }\n",
              "      </script>\n",
              "    </div>\n",
              "  </div>\n",
              "  "
            ]
          },
          "metadata": {},
          "execution_count": 60
        }
      ]
    },
    {
      "cell_type": "code",
      "source": [
        "compression_opts_spam = dict(method='zip', archive_name='out_spam.csv')  \n",
        "df_spam.to_csv('out_spam.zip', index=False, compression=compression_opts_spam) "
      ],
      "metadata": {
        "id": "SGSEN_h_PVCv"
      },
      "execution_count": null,
      "outputs": []
    },
    {
      "cell_type": "markdown",
      "source": [
        "1.   **SPAM KAGGLE SCORE: .80394**\n",
        "2.   Username: Rayan Taghizadeh\n",
        "\n"
      ],
      "metadata": {
        "id": "ZgopXgD6Pkha"
      }
    },
    {
      "cell_type": "code",
      "source": [
        "titanic_preds = bg.predict(Z)"
      ],
      "metadata": {
        "colab": {
          "base_uri": "https://localhost:8080/"
        },
        "id": "AAFGFs1TQM97",
        "outputId": "f6bc8bbe-4d79-4329-e096-e6b615a2c697"
      },
      "execution_count": null,
      "outputs": [
        {
          "output_type": "stream",
          "name": "stderr",
          "text": [
            "<ipython-input-94-ffa8dd338d7d>:171: FutureWarning: Unlike other reduction functions (e.g. `skew`, `kurtosis`), the default behavior of `mode` typically preserves the axis it acts along. In SciPy 1.11.0, this behavior will change: the default value of `keepdims` will become False, the `axis` over which the statistic is taken will be eliminated, and the value None will no longer be accepted. Set `keepdims` to True or False to avoid this warning.\n",
            "  return stats.mode(pred).mode[0]\n"
          ]
        }
      ]
    },
    {
      "cell_type": "code",
      "source": [
        "len(titanic_preds)"
      ],
      "metadata": {
        "colab": {
          "base_uri": "https://localhost:8080/"
        },
        "id": "y5ci_-rnQClE",
        "outputId": "66e347c7-088e-4862-dba9-8461c672c961"
      },
      "execution_count": null,
      "outputs": [
        {
          "output_type": "execute_result",
          "data": {
            "text/plain": [
              "310"
            ]
          },
          "metadata": {},
          "execution_count": 106
        }
      ]
    },
    {
      "cell_type": "code",
      "source": [
        "titanic_ints = [0] * len(titanic_preds)\n",
        "for i in range(len(titanic_preds)):\n",
        "  titanic_ints[i] = int(titanic_preds[i])"
      ],
      "metadata": {
        "id": "b-ziPHviUxqE"
      },
      "execution_count": null,
      "outputs": []
    },
    {
      "cell_type": "code",
      "source": [
        "len(titanic_ints)"
      ],
      "metadata": {
        "colab": {
          "base_uri": "https://localhost:8080/"
        },
        "id": "kkZjAa37VFbI",
        "outputId": "7f436c39-a2ca-4d35-aa0c-646740980a60"
      },
      "execution_count": null,
      "outputs": [
        {
          "output_type": "execute_result",
          "data": {
            "text/plain": [
              "310"
            ]
          },
          "metadata": {},
          "execution_count": 108
        }
      ]
    },
    {
      "cell_type": "code",
      "source": [
        "ind_tit = [i + 1 for i in range(len(titanic_ints))]\n",
        "df_tit = pd.DataFrame({\"Id\": ind_tit, \"Category\": titanic_ints})\n",
        "df_tit"
      ],
      "metadata": {
        "colab": {
          "base_uri": "https://localhost:8080/",
          "height": 419
        },
        "id": "194zW_WOVOEO",
        "outputId": "21363fae-87b1-4065-aeee-ee3547cca7f9"
      },
      "execution_count": null,
      "outputs": [
        {
          "output_type": "execute_result",
          "data": {
            "text/plain": [
              "      Id  Category\n",
              "0      1         1\n",
              "1      2         0\n",
              "2      3         0\n",
              "3      4         0\n",
              "4      5         1\n",
              "..   ...       ...\n",
              "305  306         0\n",
              "306  307         0\n",
              "307  308         0\n",
              "308  309         1\n",
              "309  310         0\n",
              "\n",
              "[310 rows x 2 columns]"
            ],
            "text/html": [
              "\n",
              "  <div id=\"df-a778f783-ff15-48f2-b5b7-5d0d4e1d8d84\">\n",
              "    <div class=\"colab-df-container\">\n",
              "      <div>\n",
              "<style scoped>\n",
              "    .dataframe tbody tr th:only-of-type {\n",
              "        vertical-align: middle;\n",
              "    }\n",
              "\n",
              "    .dataframe tbody tr th {\n",
              "        vertical-align: top;\n",
              "    }\n",
              "\n",
              "    .dataframe thead th {\n",
              "        text-align: right;\n",
              "    }\n",
              "</style>\n",
              "<table border=\"1\" class=\"dataframe\">\n",
              "  <thead>\n",
              "    <tr style=\"text-align: right;\">\n",
              "      <th></th>\n",
              "      <th>Id</th>\n",
              "      <th>Category</th>\n",
              "    </tr>\n",
              "  </thead>\n",
              "  <tbody>\n",
              "    <tr>\n",
              "      <th>0</th>\n",
              "      <td>1</td>\n",
              "      <td>1</td>\n",
              "    </tr>\n",
              "    <tr>\n",
              "      <th>1</th>\n",
              "      <td>2</td>\n",
              "      <td>0</td>\n",
              "    </tr>\n",
              "    <tr>\n",
              "      <th>2</th>\n",
              "      <td>3</td>\n",
              "      <td>0</td>\n",
              "    </tr>\n",
              "    <tr>\n",
              "      <th>3</th>\n",
              "      <td>4</td>\n",
              "      <td>0</td>\n",
              "    </tr>\n",
              "    <tr>\n",
              "      <th>4</th>\n",
              "      <td>5</td>\n",
              "      <td>1</td>\n",
              "    </tr>\n",
              "    <tr>\n",
              "      <th>...</th>\n",
              "      <td>...</td>\n",
              "      <td>...</td>\n",
              "    </tr>\n",
              "    <tr>\n",
              "      <th>305</th>\n",
              "      <td>306</td>\n",
              "      <td>0</td>\n",
              "    </tr>\n",
              "    <tr>\n",
              "      <th>306</th>\n",
              "      <td>307</td>\n",
              "      <td>0</td>\n",
              "    </tr>\n",
              "    <tr>\n",
              "      <th>307</th>\n",
              "      <td>308</td>\n",
              "      <td>0</td>\n",
              "    </tr>\n",
              "    <tr>\n",
              "      <th>308</th>\n",
              "      <td>309</td>\n",
              "      <td>1</td>\n",
              "    </tr>\n",
              "    <tr>\n",
              "      <th>309</th>\n",
              "      <td>310</td>\n",
              "      <td>0</td>\n",
              "    </tr>\n",
              "  </tbody>\n",
              "</table>\n",
              "<p>310 rows × 2 columns</p>\n",
              "</div>\n",
              "      <button class=\"colab-df-convert\" onclick=\"convertToInteractive('df-a778f783-ff15-48f2-b5b7-5d0d4e1d8d84')\"\n",
              "              title=\"Convert this dataframe to an interactive table.\"\n",
              "              style=\"display:none;\">\n",
              "        \n",
              "  <svg xmlns=\"http://www.w3.org/2000/svg\" height=\"24px\"viewBox=\"0 0 24 24\"\n",
              "       width=\"24px\">\n",
              "    <path d=\"M0 0h24v24H0V0z\" fill=\"none\"/>\n",
              "    <path d=\"M18.56 5.44l.94 2.06.94-2.06 2.06-.94-2.06-.94-.94-2.06-.94 2.06-2.06.94zm-11 1L8.5 8.5l.94-2.06 2.06-.94-2.06-.94L8.5 2.5l-.94 2.06-2.06.94zm10 10l.94 2.06.94-2.06 2.06-.94-2.06-.94-.94-2.06-.94 2.06-2.06.94z\"/><path d=\"M17.41 7.96l-1.37-1.37c-.4-.4-.92-.59-1.43-.59-.52 0-1.04.2-1.43.59L10.3 9.45l-7.72 7.72c-.78.78-.78 2.05 0 2.83L4 21.41c.39.39.9.59 1.41.59.51 0 1.02-.2 1.41-.59l7.78-7.78 2.81-2.81c.8-.78.8-2.07 0-2.86zM5.41 20L4 18.59l7.72-7.72 1.47 1.35L5.41 20z\"/>\n",
              "  </svg>\n",
              "      </button>\n",
              "      \n",
              "  <style>\n",
              "    .colab-df-container {\n",
              "      display:flex;\n",
              "      flex-wrap:wrap;\n",
              "      gap: 12px;\n",
              "    }\n",
              "\n",
              "    .colab-df-convert {\n",
              "      background-color: #E8F0FE;\n",
              "      border: none;\n",
              "      border-radius: 50%;\n",
              "      cursor: pointer;\n",
              "      display: none;\n",
              "      fill: #1967D2;\n",
              "      height: 32px;\n",
              "      padding: 0 0 0 0;\n",
              "      width: 32px;\n",
              "    }\n",
              "\n",
              "    .colab-df-convert:hover {\n",
              "      background-color: #E2EBFA;\n",
              "      box-shadow: 0px 1px 2px rgba(60, 64, 67, 0.3), 0px 1px 3px 1px rgba(60, 64, 67, 0.15);\n",
              "      fill: #174EA6;\n",
              "    }\n",
              "\n",
              "    [theme=dark] .colab-df-convert {\n",
              "      background-color: #3B4455;\n",
              "      fill: #D2E3FC;\n",
              "    }\n",
              "\n",
              "    [theme=dark] .colab-df-convert:hover {\n",
              "      background-color: #434B5C;\n",
              "      box-shadow: 0px 1px 3px 1px rgba(0, 0, 0, 0.15);\n",
              "      filter: drop-shadow(0px 1px 2px rgba(0, 0, 0, 0.3));\n",
              "      fill: #FFFFFF;\n",
              "    }\n",
              "  </style>\n",
              "\n",
              "      <script>\n",
              "        const buttonEl =\n",
              "          document.querySelector('#df-a778f783-ff15-48f2-b5b7-5d0d4e1d8d84 button.colab-df-convert');\n",
              "        buttonEl.style.display =\n",
              "          google.colab.kernel.accessAllowed ? 'block' : 'none';\n",
              "\n",
              "        async function convertToInteractive(key) {\n",
              "          const element = document.querySelector('#df-a778f783-ff15-48f2-b5b7-5d0d4e1d8d84');\n",
              "          const dataTable =\n",
              "            await google.colab.kernel.invokeFunction('convertToInteractive',\n",
              "                                                     [key], {});\n",
              "          if (!dataTable) return;\n",
              "\n",
              "          const docLinkHtml = 'Like what you see? Visit the ' +\n",
              "            '<a target=\"_blank\" href=https://colab.research.google.com/notebooks/data_table.ipynb>data table notebook</a>'\n",
              "            + ' to learn more about interactive tables.';\n",
              "          element.innerHTML = '';\n",
              "          dataTable['output_type'] = 'display_data';\n",
              "          await google.colab.output.renderOutput(dataTable, element);\n",
              "          const docLink = document.createElement('div');\n",
              "          docLink.innerHTML = docLinkHtml;\n",
              "          element.appendChild(docLink);\n",
              "        }\n",
              "      </script>\n",
              "    </div>\n",
              "  </div>\n",
              "  "
            ]
          },
          "metadata": {},
          "execution_count": 113
        }
      ]
    },
    {
      "cell_type": "code",
      "source": [
        "compression_opts_spam = dict(method='zip', archive_name='out_tit5.csv')  \n",
        "df_tit.to_csv('out_tit5.zip', index=False, compression=compression_opts_spam)"
      ],
      "metadata": {
        "id": "lAzfv2HkVYWD"
      },
      "execution_count": null,
      "outputs": []
    },
    {
      "cell_type": "markdown",
      "source": [
        "1.   **TITANIC KAGGLE SCORE: .79354**\n",
        "2.   Username: Rayan Taghizadeh"
      ],
      "metadata": {
        "id": "pX5hnXWYFBXv"
      }
    },
    {
      "cell_type": "code",
      "source": [
        "train = pd.DataFrame(X)\n",
        "train[\"y\"] = y\n",
        "train = train.sample(frac=1)\n",
        "val = train[:int(len(train)*0.2)]\n",
        "train = train[int(len(train)*0.2):]"
      ],
      "metadata": {
        "id": "MhXTat3PQBZm"
      },
      "execution_count": null,
      "outputs": []
    },
    {
      "cell_type": "code",
      "source": [
        "from sklearn.metrics import accuracy_score"
      ],
      "metadata": {
        "id": "eTjebn8qQjfq"
      },
      "execution_count": null,
      "outputs": []
    },
    {
      "cell_type": "code",
      "source": [
        "train_ls = []\n",
        "val_ls = []\n",
        "for i in range(40):\n",
        "  params[\"max_depth\"] = i\n",
        "  bg = BaggedTrees(params = params, n=30)\n",
        "  bg.fit(train.drop(\"y\", axis = 1), train[\"y\"])\n",
        "#train = bg.predict(train)\n",
        "#val = bg.predict(val)\n",
        "  valp = bg.predict(val.to_numpy())\n",
        "  val_labs = pd.Series.to_numpy(val['y'])\n",
        "  val_ls += [accuracy_score(val_labs, valp)]"
      ],
      "metadata": {
        "id": "hE39DhmMQCm_"
      },
      "execution_count": null,
      "outputs": []
    },
    {
      "cell_type": "code",
      "source": [
        "import matplotlib.pyplot as plt"
      ],
      "metadata": {
        "id": "uX2hJOSLTCkk"
      },
      "execution_count": null,
      "outputs": []
    },
    {
      "cell_type": "code",
      "source": [
        "depths = [i for i in range(40)]\n",
        "plt.plot(depths, val_ls)\n",
        "plt.title(\"depths vs validation\")\n",
        "plt.xlabel(\"depths\")\n",
        "plt.ylabel(\"validation accuracies\")\n",
        "plt.show()"
      ],
      "metadata": {
        "colab": {
          "base_uri": "https://localhost:8080/",
          "height": 472
        },
        "id": "3MS_-FuBRxnP",
        "outputId": "c3c2369f-d94a-4fb3-b7b9-d2d6fe32dae7"
      },
      "execution_count": null,
      "outputs": [
        {
          "output_type": "display_data",
          "data": {
            "text/plain": [
              "<Figure size 640x480 with 1 Axes>"
            ],
            "image/png": "[encoded data removed]"
          },
          "metadata": {}
        }
      ]
    }
  ]
}